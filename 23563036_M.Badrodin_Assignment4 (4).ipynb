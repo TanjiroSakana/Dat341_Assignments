{
  "nbformat": 4,
  "nbformat_minor": 0,
  "metadata": {
    "colab": {
      "provenance": []
    },
    "kernelspec": {
      "name": "python3",
      "display_name": "Python 3"
    },
    "language_info": {
      "name": "python"
    }
  },
  "cells": [
    {
      "cell_type": "markdown",
      "source": [
        "### DAT 341: Assignment 4 (2024)\n"
      ],
      "metadata": {
        "id": "LQePVcXOQgAm"
      }
    },
    {
      "cell_type": "markdown",
      "source": [
        "**Instructions**\n",
        "\n",
        "Add the following information to your notebook name before you submit:\n",
        "\n",
        "*  Your Student number\n",
        "\n",
        "*  Your Surname\n",
        "\n",
        "*  Your Initials\n",
        "\n",
        "Please complete all the questions below on this Google Notebook.\n",
        "\n",
        "Add code cells as needed.\n",
        "\n",
        "**Make use of comments within your coding cells to document your code at each step (#).**\n",
        "\n",
        "After completion, download the ipynb file and submit it using the assignment link on SunLearn.\n",
        "\n",
        "Submission deadline: 27 October 2024, before 20:00"
      ],
      "metadata": {
        "id": "Utl_FSDn_VQp"
      }
    },
    {
      "cell_type": "markdown",
      "source": [
        "(48 marks in total)"
      ],
      "metadata": {
        "id": "b3WQcXcjdBDc"
      }
    },
    {
      "cell_type": "code",
      "source": [
        " #23563036 M.Badrodin (Muktaar Badrodin)"
      ],
      "metadata": {
        "id": "DCiTTTXN8kLe"
      },
      "execution_count": null,
      "outputs": []
    },
    {
      "cell_type": "code",
      "source": [
        "from datascience import *\n",
        "import numpy as np\n",
        "from google.colab import files\n",
        "%matplotlib inline\n",
        "import matplotlib.pyplot as plots\n",
        "plots.style.use('fivethirtyeight')"
      ],
      "metadata": {
        "id": "c0nyoiH_dItq"
      },
      "execution_count": 2,
      "outputs": []
    },
    {
      "cell_type": "markdown",
      "source": [
        "**Question:**\n",
        "\n",
        "You are a food safety analyst working for a regulatory agency responsible for setting standards on pesticide residues in strawberries. You want to assess the pesticide residue levels in strawberries and determine if the residue levels comply with the Maximum Residue Level (MRL) set for fruits intended for juice by the regulatory authority for a small-scale producer, Zepplins."
      ],
      "metadata": {
        "id": "tf5G4MWZMEee"
      }
    },
    {
      "cell_type": "code",
      "source": [
        "# upload file\n",
        "uploaded = files.upload()"
      ],
      "metadata": {
        "id": "H-ddKBK-J3vB",
        "colab": {
          "base_uri": "https://localhost:8080/",
          "height": 73
        },
        "outputId": "c31a7dbd-2952-4f38-f4b3-9038bd151275"
      },
      "execution_count": 3,
      "outputs": [
        {
          "output_type": "display_data",
          "data": {
            "text/plain": [
              "<IPython.core.display.HTML object>"
            ],
            "text/html": [
              "\n",
              "     <input type=\"file\" id=\"files-38e72167-2a64-470d-bbb5-87765a43877f\" name=\"files[]\" multiple disabled\n",
              "        style=\"border:none\" />\n",
              "     <output id=\"result-38e72167-2a64-470d-bbb5-87765a43877f\">\n",
              "      Upload widget is only available when the cell has been executed in the\n",
              "      current browser session. Please rerun this cell to enable.\n",
              "      </output>\n",
              "      <script>// Copyright 2017 Google LLC\n",
              "//\n",
              "// Licensed under the Apache License, Version 2.0 (the \"License\");\n",
              "// you may not use this file except in compliance with the License.\n",
              "// You may obtain a copy of the License at\n",
              "//\n",
              "//      http://www.apache.org/licenses/LICENSE-2.0\n",
              "//\n",
              "// Unless required by applicable law or agreed to in writing, software\n",
              "// distributed under the License is distributed on an \"AS IS\" BASIS,\n",
              "// WITHOUT WARRANTIES OR CONDITIONS OF ANY KIND, either express or implied.\n",
              "// See the License for the specific language governing permissions and\n",
              "// limitations under the License.\n",
              "\n",
              "/**\n",
              " * @fileoverview Helpers for google.colab Python module.\n",
              " */\n",
              "(function(scope) {\n",
              "function span(text, styleAttributes = {}) {\n",
              "  const element = document.createElement('span');\n",
              "  element.textContent = text;\n",
              "  for (const key of Object.keys(styleAttributes)) {\n",
              "    element.style[key] = styleAttributes[key];\n",
              "  }\n",
              "  return element;\n",
              "}\n",
              "\n",
              "// Max number of bytes which will be uploaded at a time.\n",
              "const MAX_PAYLOAD_SIZE = 100 * 1024;\n",
              "\n",
              "function _uploadFiles(inputId, outputId) {\n",
              "  const steps = uploadFilesStep(inputId, outputId);\n",
              "  const outputElement = document.getElementById(outputId);\n",
              "  // Cache steps on the outputElement to make it available for the next call\n",
              "  // to uploadFilesContinue from Python.\n",
              "  outputElement.steps = steps;\n",
              "\n",
              "  return _uploadFilesContinue(outputId);\n",
              "}\n",
              "\n",
              "// This is roughly an async generator (not supported in the browser yet),\n",
              "// where there are multiple asynchronous steps and the Python side is going\n",
              "// to poll for completion of each step.\n",
              "// This uses a Promise to block the python side on completion of each step,\n",
              "// then passes the result of the previous step as the input to the next step.\n",
              "function _uploadFilesContinue(outputId) {\n",
              "  const outputElement = document.getElementById(outputId);\n",
              "  const steps = outputElement.steps;\n",
              "\n",
              "  const next = steps.next(outputElement.lastPromiseValue);\n",
              "  return Promise.resolve(next.value.promise).then((value) => {\n",
              "    // Cache the last promise value to make it available to the next\n",
              "    // step of the generator.\n",
              "    outputElement.lastPromiseValue = value;\n",
              "    return next.value.response;\n",
              "  });\n",
              "}\n",
              "\n",
              "/**\n",
              " * Generator function which is called between each async step of the upload\n",
              " * process.\n",
              " * @param {string} inputId Element ID of the input file picker element.\n",
              " * @param {string} outputId Element ID of the output display.\n",
              " * @return {!Iterable<!Object>} Iterable of next steps.\n",
              " */\n",
              "function* uploadFilesStep(inputId, outputId) {\n",
              "  const inputElement = document.getElementById(inputId);\n",
              "  inputElement.disabled = false;\n",
              "\n",
              "  const outputElement = document.getElementById(outputId);\n",
              "  outputElement.innerHTML = '';\n",
              "\n",
              "  const pickedPromise = new Promise((resolve) => {\n",
              "    inputElement.addEventListener('change', (e) => {\n",
              "      resolve(e.target.files);\n",
              "    });\n",
              "  });\n",
              "\n",
              "  const cancel = document.createElement('button');\n",
              "  inputElement.parentElement.appendChild(cancel);\n",
              "  cancel.textContent = 'Cancel upload';\n",
              "  const cancelPromise = new Promise((resolve) => {\n",
              "    cancel.onclick = () => {\n",
              "      resolve(null);\n",
              "    };\n",
              "  });\n",
              "\n",
              "  // Wait for the user to pick the files.\n",
              "  const files = yield {\n",
              "    promise: Promise.race([pickedPromise, cancelPromise]),\n",
              "    response: {\n",
              "      action: 'starting',\n",
              "    }\n",
              "  };\n",
              "\n",
              "  cancel.remove();\n",
              "\n",
              "  // Disable the input element since further picks are not allowed.\n",
              "  inputElement.disabled = true;\n",
              "\n",
              "  if (!files) {\n",
              "    return {\n",
              "      response: {\n",
              "        action: 'complete',\n",
              "      }\n",
              "    };\n",
              "  }\n",
              "\n",
              "  for (const file of files) {\n",
              "    const li = document.createElement('li');\n",
              "    li.append(span(file.name, {fontWeight: 'bold'}));\n",
              "    li.append(span(\n",
              "        `(${file.type || 'n/a'}) - ${file.size} bytes, ` +\n",
              "        `last modified: ${\n",
              "            file.lastModifiedDate ? file.lastModifiedDate.toLocaleDateString() :\n",
              "                                    'n/a'} - `));\n",
              "    const percent = span('0% done');\n",
              "    li.appendChild(percent);\n",
              "\n",
              "    outputElement.appendChild(li);\n",
              "\n",
              "    const fileDataPromise = new Promise((resolve) => {\n",
              "      const reader = new FileReader();\n",
              "      reader.onload = (e) => {\n",
              "        resolve(e.target.result);\n",
              "      };\n",
              "      reader.readAsArrayBuffer(file);\n",
              "    });\n",
              "    // Wait for the data to be ready.\n",
              "    let fileData = yield {\n",
              "      promise: fileDataPromise,\n",
              "      response: {\n",
              "        action: 'continue',\n",
              "      }\n",
              "    };\n",
              "\n",
              "    // Use a chunked sending to avoid message size limits. See b/62115660.\n",
              "    let position = 0;\n",
              "    do {\n",
              "      const length = Math.min(fileData.byteLength - position, MAX_PAYLOAD_SIZE);\n",
              "      const chunk = new Uint8Array(fileData, position, length);\n",
              "      position += length;\n",
              "\n",
              "      const base64 = btoa(String.fromCharCode.apply(null, chunk));\n",
              "      yield {\n",
              "        response: {\n",
              "          action: 'append',\n",
              "          file: file.name,\n",
              "          data: base64,\n",
              "        },\n",
              "      };\n",
              "\n",
              "      let percentDone = fileData.byteLength === 0 ?\n",
              "          100 :\n",
              "          Math.round((position / fileData.byteLength) * 100);\n",
              "      percent.textContent = `${percentDone}% done`;\n",
              "\n",
              "    } while (position < fileData.byteLength);\n",
              "  }\n",
              "\n",
              "  // All done.\n",
              "  yield {\n",
              "    response: {\n",
              "      action: 'complete',\n",
              "    }\n",
              "  };\n",
              "}\n",
              "\n",
              "scope.google = scope.google || {};\n",
              "scope.google.colab = scope.google.colab || {};\n",
              "scope.google.colab._files = {\n",
              "  _uploadFiles,\n",
              "  _uploadFilesContinue,\n",
              "};\n",
              "})(self);\n",
              "</script> "
            ]
          },
          "metadata": {}
        },
        {
          "output_type": "stream",
          "name": "stdout",
          "text": [
            "Saving strawberry_pesticide_residue.csv to strawberry_pesticide_residue.csv\n"
          ]
        }
      ]
    },
    {
      "cell_type": "markdown",
      "source": [
        "a) You selected a random sample of 100 strawberry plants from the producer and determine the pesticide residue levels for each of the plants. Note, the data ***strawberry_pesticide_residue.csv*** provides the dataset for the pesticide residuals of all of Zepplins strawberry plants. Write the code to select the sample’s data from the provided data and store this in a new table called ***first_sample*** (3 marks)."
      ],
      "metadata": {
        "id": "yMfFRAifESOc"
      }
    },
    {
      "cell_type": "code",
      "source": [
        "#read file into table\n",
        "strawberry_pesticide_residue = Table.read_table('strawberry_pesticide_residue.csv')\n",
        "strawberry_pesticide_residue\n"
      ],
      "metadata": {
        "id": "g-oZvJJNockX",
        "colab": {
          "base_uri": "https://localhost:8080/",
          "height": 392
        },
        "outputId": "f55ca3c4-0d32-4afd-a9c2-a5de20e5e5b0"
      },
      "execution_count": 4,
      "outputs": [
        {
          "output_type": "execute_result",
          "data": {
            "text/plain": [
              "PesticideResidue\n",
              "2.74507\n",
              "1.7926\n",
              "2.97153\n",
              "4.28454\n",
              "1.64877\n",
              "1.64879\n",
              "4.36882\n",
              "3.15115\n",
              "1.29579\n",
              "2.81384\n",
              "... (479990 rows omitted)"
            ],
            "text/html": [
              "<table border=\"1\" class=\"dataframe\">\n",
              "    <thead>\n",
              "        <tr>\n",
              "            <th>PesticideResidue</th>\n",
              "        </tr>\n",
              "    </thead>\n",
              "    <tbody>\n",
              "        <tr>\n",
              "            <td>2.74507         </td>\n",
              "        </tr>\n",
              "        <tr>\n",
              "            <td>1.7926          </td>\n",
              "        </tr>\n",
              "        <tr>\n",
              "            <td>2.97153         </td>\n",
              "        </tr>\n",
              "        <tr>\n",
              "            <td>4.28454         </td>\n",
              "        </tr>\n",
              "        <tr>\n",
              "            <td>1.64877         </td>\n",
              "        </tr>\n",
              "        <tr>\n",
              "            <td>1.64879         </td>\n",
              "        </tr>\n",
              "        <tr>\n",
              "            <td>4.36882         </td>\n",
              "        </tr>\n",
              "        <tr>\n",
              "            <td>3.15115         </td>\n",
              "        </tr>\n",
              "        <tr>\n",
              "            <td>1.29579         </td>\n",
              "        </tr>\n",
              "        <tr>\n",
              "            <td>2.81384         </td>\n",
              "        </tr>\n",
              "    </tbody>\n",
              "</table>\n",
              "<p>... (479990 rows omitted)</p>"
            ]
          },
          "metadata": {},
          "execution_count": 4
        }
      ]
    },
    {
      "cell_type": "code",
      "source": [
        "#selecting a random sample of 100 strawberry plants\n",
        "first_sample = strawberry_pesticide_residue.sample(100,with_replacement=False)\n",
        "first_sample"
      ],
      "metadata": {
        "id": "QsXuP0NjocwO",
        "colab": {
          "base_uri": "https://localhost:8080/",
          "height": 392
        },
        "outputId": "a0db1577-0e8d-4817-f27f-f81383c7f846"
      },
      "execution_count": null,
      "outputs": [
        {
          "output_type": "execute_result",
          "data": {
            "text/plain": [
              "PesticideResidue\n",
              "1.60002\n",
              "0.829674\n",
              "4.17023\n",
              "0.186013\n",
              "5.10234\n",
              "2.54368\n",
              "0.829935\n",
              "1.25271\n",
              "3.09977\n",
              "2.83341\n",
              "... (90 rows omitted)"
            ],
            "text/html": [
              "<table border=\"1\" class=\"dataframe\">\n",
              "    <thead>\n",
              "        <tr>\n",
              "            <th>PesticideResidue</th>\n",
              "        </tr>\n",
              "    </thead>\n",
              "    <tbody>\n",
              "        <tr>\n",
              "            <td>1.60002         </td>\n",
              "        </tr>\n",
              "        <tr>\n",
              "            <td>0.829674        </td>\n",
              "        </tr>\n",
              "        <tr>\n",
              "            <td>4.17023         </td>\n",
              "        </tr>\n",
              "        <tr>\n",
              "            <td>0.186013        </td>\n",
              "        </tr>\n",
              "        <tr>\n",
              "            <td>5.10234         </td>\n",
              "        </tr>\n",
              "        <tr>\n",
              "            <td>2.54368         </td>\n",
              "        </tr>\n",
              "        <tr>\n",
              "            <td>0.829935        </td>\n",
              "        </tr>\n",
              "        <tr>\n",
              "            <td>1.25271         </td>\n",
              "        </tr>\n",
              "        <tr>\n",
              "            <td>3.09977         </td>\n",
              "        </tr>\n",
              "        <tr>\n",
              "            <td>2.83341         </td>\n",
              "        </tr>\n",
              "    </tbody>\n",
              "</table>\n",
              "<p>... (90 rows omitted)</p>"
            ]
          },
          "metadata": {},
          "execution_count": 6
        }
      ]
    },
    {
      "cell_type": "code",
      "source": [
        "#seeing all 100 samples\n",
        "first_sample.show(100)"
      ],
      "metadata": {
        "id": "GK329cdIpdEw",
        "colab": {
          "base_uri": "https://localhost:8080/",
          "height": 1000
        },
        "collapsed": true,
        "outputId": "389a64dc-375f-4140-ad20-29259f56daab"
      },
      "execution_count": null,
      "outputs": [
        {
          "output_type": "display_data",
          "data": {
            "text/plain": [
              "<IPython.core.display.HTML object>"
            ],
            "text/html": [
              "<table border=\"1\" class=\"dataframe\">\n",
              "    <thead>\n",
              "        <tr>\n",
              "            <th>PesticideResidue</th>\n",
              "        </tr>\n",
              "    </thead>\n",
              "    <tbody>\n",
              "        <tr>\n",
              "            <td>1.60002         </td>\n",
              "        </tr>\n",
              "        <tr>\n",
              "            <td>0.829674        </td>\n",
              "        </tr>\n",
              "        <tr>\n",
              "            <td>4.17023         </td>\n",
              "        </tr>\n",
              "        <tr>\n",
              "            <td>0.186013        </td>\n",
              "        </tr>\n",
              "        <tr>\n",
              "            <td>5.10234         </td>\n",
              "        </tr>\n",
              "        <tr>\n",
              "            <td>2.54368         </td>\n",
              "        </tr>\n",
              "        <tr>\n",
              "            <td>0.829935        </td>\n",
              "        </tr>\n",
              "        <tr>\n",
              "            <td>1.25271         </td>\n",
              "        </tr>\n",
              "        <tr>\n",
              "            <td>3.09977         </td>\n",
              "        </tr>\n",
              "        <tr>\n",
              "            <td>2.83341         </td>\n",
              "        </tr>\n",
              "        <tr>\n",
              "            <td>3.38794         </td>\n",
              "        </tr>\n",
              "        <tr>\n",
              "            <td>0.32893         </td>\n",
              "        </tr>\n",
              "        <tr>\n",
              "            <td>2.36543         </td>\n",
              "        </tr>\n",
              "        <tr>\n",
              "            <td>2.32247         </td>\n",
              "        </tr>\n",
              "        <tr>\n",
              "            <td>0.759154        </td>\n",
              "        </tr>\n",
              "        <tr>\n",
              "            <td>1.97223         </td>\n",
              "        </tr>\n",
              "        <tr>\n",
              "            <td>1.70271         </td>\n",
              "        </tr>\n",
              "        <tr>\n",
              "            <td>0               </td>\n",
              "        </tr>\n",
              "        <tr>\n",
              "            <td>3.4481          </td>\n",
              "        </tr>\n",
              "        <tr>\n",
              "            <td>2.39716         </td>\n",
              "        </tr>\n",
              "        <tr>\n",
              "            <td>3.35603         </td>\n",
              "        </tr>\n",
              "        <tr>\n",
              "            <td>5.78676         </td>\n",
              "        </tr>\n",
              "        <tr>\n",
              "            <td>4.42818         </td>\n",
              "        </tr>\n",
              "        <tr>\n",
              "            <td>0.805664        </td>\n",
              "        </tr>\n",
              "        <tr>\n",
              "            <td>1.15041         </td>\n",
              "        </tr>\n",
              "        <tr>\n",
              "            <td>3.21467         </td>\n",
              "        </tr>\n",
              "        <tr>\n",
              "            <td>1.97054         </td>\n",
              "        </tr>\n",
              "        <tr>\n",
              "            <td>1.74684         </td>\n",
              "        </tr>\n",
              "        <tr>\n",
              "            <td>3.49253         </td>\n",
              "        </tr>\n",
              "        <tr>\n",
              "            <td>1.8018          </td>\n",
              "        </tr>\n",
              "        <tr>\n",
              "            <td>0.825037        </td>\n",
              "        </tr>\n",
              "        <tr>\n",
              "            <td>0.715839        </td>\n",
              "        </tr>\n",
              "        <tr>\n",
              "            <td>0               </td>\n",
              "        </tr>\n",
              "        <tr>\n",
              "            <td>1.08012         </td>\n",
              "        </tr>\n",
              "        <tr>\n",
              "            <td>1.42317         </td>\n",
              "        </tr>\n",
              "        <tr>\n",
              "            <td>3.29103         </td>\n",
              "        </tr>\n",
              "        <tr>\n",
              "            <td>0.1625          </td>\n",
              "        </tr>\n",
              "        <tr>\n",
              "            <td>4.05148         </td>\n",
              "        </tr>\n",
              "        <tr>\n",
              "            <td>4.5158          </td>\n",
              "        </tr>\n",
              "        <tr>\n",
              "            <td>0.415164        </td>\n",
              "        </tr>\n",
              "        <tr>\n",
              "            <td>2.86628         </td>\n",
              "        </tr>\n",
              "        <tr>\n",
              "            <td>1.05284         </td>\n",
              "        </tr>\n",
              "        <tr>\n",
              "            <td>0.665728        </td>\n",
              "        </tr>\n",
              "        <tr>\n",
              "            <td>2.0868          </td>\n",
              "        </tr>\n",
              "        <tr>\n",
              "            <td>0.682797        </td>\n",
              "        </tr>\n",
              "        <tr>\n",
              "            <td>0               </td>\n",
              "        </tr>\n",
              "        <tr>\n",
              "            <td>2.64209         </td>\n",
              "        </tr>\n",
              "        <tr>\n",
              "            <td>1.70399         </td>\n",
              "        </tr>\n",
              "        <tr>\n",
              "            <td>0.753676        </td>\n",
              "        </tr>\n",
              "        <tr>\n",
              "            <td>0               </td>\n",
              "        </tr>\n",
              "        <tr>\n",
              "            <td>1.64341         </td>\n",
              "        </tr>\n",
              "        <tr>\n",
              "            <td>0.761754        </td>\n",
              "        </tr>\n",
              "        <tr>\n",
              "            <td>3.50723         </td>\n",
              "        </tr>\n",
              "        <tr>\n",
              "            <td>2.51088         </td>\n",
              "        </tr>\n",
              "        <tr>\n",
              "            <td>3.36563         </td>\n",
              "        </tr>\n",
              "        <tr>\n",
              "            <td>2.59168         </td>\n",
              "        </tr>\n",
              "        <tr>\n",
              "            <td>2.21189         </td>\n",
              "        </tr>\n",
              "        <tr>\n",
              "            <td>3.78891         </td>\n",
              "        </tr>\n",
              "        <tr>\n",
              "            <td>1.64813         </td>\n",
              "        </tr>\n",
              "        <tr>\n",
              "            <td>1.15519         </td>\n",
              "        </tr>\n",
              "        <tr>\n",
              "            <td>1.5466          </td>\n",
              "        </tr>\n",
              "        <tr>\n",
              "            <td>3.34934         </td>\n",
              "        </tr>\n",
              "        <tr>\n",
              "            <td>1.00017         </td>\n",
              "        </tr>\n",
              "        <tr>\n",
              "            <td>1.74601         </td>\n",
              "        </tr>\n",
              "        <tr>\n",
              "            <td>1.83302         </td>\n",
              "        </tr>\n",
              "        <tr>\n",
              "            <td>5.54132         </td>\n",
              "        </tr>\n",
              "        <tr>\n",
              "            <td>0.455456        </td>\n",
              "        </tr>\n",
              "        <tr>\n",
              "            <td>1.23846         </td>\n",
              "        </tr>\n",
              "        <tr>\n",
              "            <td>2.71991         </td>\n",
              "        </tr>\n",
              "        <tr>\n",
              "            <td>1.28517         </td>\n",
              "        </tr>\n",
              "        <tr>\n",
              "            <td>0               </td>\n",
              "        </tr>\n",
              "        <tr>\n",
              "            <td>4.04621         </td>\n",
              "        </tr>\n",
              "        <tr>\n",
              "            <td>1.89555         </td>\n",
              "        </tr>\n",
              "        <tr>\n",
              "            <td>2.64403         </td>\n",
              "        </tr>\n",
              "        <tr>\n",
              "            <td>2.69493         </td>\n",
              "        </tr>\n",
              "        <tr>\n",
              "            <td>1.95069         </td>\n",
              "        </tr>\n",
              "        <tr>\n",
              "            <td>1.63815         </td>\n",
              "        </tr>\n",
              "        <tr>\n",
              "            <td>3.73204         </td>\n",
              "        </tr>\n",
              "        <tr>\n",
              "            <td>4.14673         </td>\n",
              "        </tr>\n",
              "        <tr>\n",
              "            <td>3.75969         </td>\n",
              "        </tr>\n",
              "        <tr>\n",
              "            <td>0               </td>\n",
              "        </tr>\n",
              "        <tr>\n",
              "            <td>2.10823         </td>\n",
              "        </tr>\n",
              "        <tr>\n",
              "            <td>5.1766          </td>\n",
              "        </tr>\n",
              "        <tr>\n",
              "            <td>5.78676         </td>\n",
              "        </tr>\n",
              "        <tr>\n",
              "            <td>1.50378         </td>\n",
              "        </tr>\n",
              "        <tr>\n",
              "            <td>1.09292         </td>\n",
              "        </tr>\n",
              "        <tr>\n",
              "            <td>0.415538        </td>\n",
              "        </tr>\n",
              "        <tr>\n",
              "            <td>0.969479        </td>\n",
              "        </tr>\n",
              "        <tr>\n",
              "            <td>2.48255         </td>\n",
              "        </tr>\n",
              "        <tr>\n",
              "            <td>0               </td>\n",
              "        </tr>\n",
              "        <tr>\n",
              "            <td>2.53745         </td>\n",
              "        </tr>\n",
              "        <tr>\n",
              "            <td>3.11124         </td>\n",
              "        </tr>\n",
              "        <tr>\n",
              "            <td>4.62465         </td>\n",
              "        </tr>\n",
              "        <tr>\n",
              "            <td>3.64573         </td>\n",
              "        </tr>\n",
              "        <tr>\n",
              "            <td>2.42733         </td>\n",
              "        </tr>\n",
              "        <tr>\n",
              "            <td>2.16318         </td>\n",
              "        </tr>\n",
              "        <tr>\n",
              "            <td>4.17672         </td>\n",
              "        </tr>\n",
              "        <tr>\n",
              "            <td>1.38967         </td>\n",
              "        </tr>\n",
              "        <tr>\n",
              "            <td>0.15119         </td>\n",
              "        </tr>\n",
              "        <tr>\n",
              "            <td>0.0950021       </td>\n",
              "        </tr>\n",
              "    </tbody>\n",
              "</table>"
            ]
          },
          "metadata": {}
        }
      ]
    },
    {
      "cell_type": "markdown",
      "source": [
        "b)  You need to decide whether to make use of the means of the data (if the data distribution is symmetrical with no extreme outliers) or the median of the data (if the data distribution is skewed) as a metrics to evaluate the residue levels. To do so, write the code to look at your sample’s distribution (1 mark)."
      ],
      "metadata": {
        "id": "gvcn5yJ4J7bR"
      }
    },
    {
      "cell_type": "code",
      "source": [
        "#Deciding to use the mean or median depending if the sample distribution is skewed or symmetrical\n",
        "#Do this with the use of a histogram.\n",
        "first_sample.hist('PesticideResidue')\n"
      ],
      "metadata": {
        "id": "799lq9_9GVO2",
        "colab": {
          "base_uri": "https://localhost:8080/",
          "height": 410
        },
        "outputId": "56fae3e1-a651-47cf-e418-3d62518baf68"
      },
      "execution_count": null,
      "outputs": [
        {
          "output_type": "display_data",
          "data": {
            "text/plain": [
              "<Figure size 600x400 with 1 Axes>"
            ],
            "image/png": "[encoded data removed]"
          },
          "metadata": {}
        }
      ]
    },
    {
      "cell_type": "markdown",
      "source": [
        "c) What metrics will you use and why (2 marks)?"
      ],
      "metadata": {
        "id": "jO2Cdk06J-Vy"
      }
    },
    {
      "cell_type": "markdown",
      "source": [
        "*Write your answer here.*"
      ],
      "metadata": {
        "id": "2EF6cUFyyCcO"
      }
    },
    {
      "cell_type": "code",
      "source": [
        "#Answer in textbox below\n",
        "\n",
        "#Since we do not see a normal distribution, the data is skewed ths the medians of the data will be the metrics in order to evaluate the residue levels.\n",
        "#The reason for this is because a non-normal distribution that has outliers , the mean will be skewed hence will not be feasible to evaluate residue levels. Thus the median will be used for evaluation of residual levels."
      ],
      "metadata": {
        "id": "KpU4IYFzKTMS"
      },
      "execution_count": null,
      "outputs": []
    },
    {
      "cell_type": "markdown",
      "source": [
        "Since we do not see a normal distribution, the data is skewed ths the medians of the data will be the metrics in order to evaluate the residue levels. The reason for this is because a non-normal distribution that has outliers , the mean will be skewed hence will not be feasible to evaluate residue levels. Thus the median will be used for evaluation of residue levels."
      ],
      "metadata": {
        "id": "fff_FRbX-kSo"
      }
    },
    {
      "cell_type": "markdown",
      "source": [
        "\n",
        "d) You want to apply bootstrapping to estimate the pesticide residue level in the strawberries. To facilitate this, create a function, called ***bootstraps***, that take two inputs, namely, a table of the sample population’s data and the column header of the residue values. The function should calculate 10,000 bootstrapped statistic values, either means or medians, depending on your answer in (c) above, and finally return a table of these values (7 marks)."
      ],
      "metadata": {
        "id": "pu1aqMTuKTiq"
      }
    },
    {
      "cell_type": "code",
      "source": [
        "def bootstraps(table,column_header):\n",
        "  bootstrapped_values=make_array()\n",
        "  for i in np.arange(10000):\n",
        "    resample=table.sample()\n",
        "    statista=np.median(resample.column(column_header))\n",
        "    bootstrapped_values=np.append(bootstrapped_values,statista)\n",
        "  return Table().with_column('Bootstrapped Statistic',bootstrapped_values)"
      ],
      "metadata": {
        "id": "o611DfXJ85Tq"
      },
      "execution_count": null,
      "outputs": []
    },
    {
      "cell_type": "markdown",
      "source": [
        "e) Calculate and display the 95% confidence interval for the estimated residue level statistic (mean or median) of your sample, after applying the bootstrap-function generated in (d) above (4 marks)."
      ],
      "metadata": {
        "id": "G6xSaVvABvx6"
      }
    },
    {
      "cell_type": "code",
      "source": [
        "#bootstraps(first_sample,'PesticideResidue') #testing if the function works"
      ],
      "metadata": {
        "id": "2XgHmDtTMztr",
        "colab": {
          "base_uri": "https://localhost:8080/",
          "height": 392
        },
        "collapsed": true,
        "outputId": "180d48ae-3170-471b-cdc8-417685d8cc2c"
      },
      "execution_count": null,
      "outputs": [
        {
          "output_type": "execute_result",
          "data": {
            "text/plain": [
              "Bootstrapped Statistic\n",
              "2.09121\n",
              "1.96062\n",
              "2.04023\n",
              "1.78993\n",
              "1.96062\n",
              "1.74642\n",
              "1.8018\n",
              "1.725\n",
              "1.89555\n",
              "2.39716\n",
              "... (9990 rows omitted)"
            ],
            "text/html": [
              "<table border=\"1\" class=\"dataframe\">\n",
              "    <thead>\n",
              "        <tr>\n",
              "            <th>Bootstrapped Statistic</th>\n",
              "        </tr>\n",
              "    </thead>\n",
              "    <tbody>\n",
              "        <tr>\n",
              "            <td>2.09121               </td>\n",
              "        </tr>\n",
              "        <tr>\n",
              "            <td>1.96062               </td>\n",
              "        </tr>\n",
              "        <tr>\n",
              "            <td>2.04023               </td>\n",
              "        </tr>\n",
              "        <tr>\n",
              "            <td>1.78993               </td>\n",
              "        </tr>\n",
              "        <tr>\n",
              "            <td>1.96062               </td>\n",
              "        </tr>\n",
              "        <tr>\n",
              "            <td>1.74642               </td>\n",
              "        </tr>\n",
              "        <tr>\n",
              "            <td>1.8018                </td>\n",
              "        </tr>\n",
              "        <tr>\n",
              "            <td>1.725                 </td>\n",
              "        </tr>\n",
              "        <tr>\n",
              "            <td>1.89555               </td>\n",
              "        </tr>\n",
              "        <tr>\n",
              "            <td>2.39716               </td>\n",
              "        </tr>\n",
              "    </tbody>\n",
              "</table>\n",
              "<p>... (9990 rows omitted)</p>"
            ]
          },
          "metadata": {},
          "execution_count": 54
        }
      ]
    },
    {
      "cell_type": "code",
      "source": [
        "# create a function to perform a single bootstrap\n",
        "def one_bootstrap():\n",
        "  resamplex=strawberry_pesticide_residue.sample(100,with_replacement=True)\n",
        "  newMedian=np.median(resamplex.column('PesticideResidue'))\n",
        "  return newMedian    #returns the median for the resampled sample"
      ],
      "metadata": {
        "id": "zwmhCQz9LRVH"
      },
      "execution_count": 9,
      "outputs": []
    },
    {
      "cell_type": "code",
      "source": [
        "one_bootstrap()"
      ],
      "metadata": {
        "colab": {
          "base_uri": "https://localhost:8080/"
        },
        "id": "MNmSXrw_Y6cg",
        "outputId": "b0fa6765-aca6-48d1-c4dc-7c1674ce3ed1"
      },
      "execution_count": null,
      "outputs": [
        {
          "output_type": "execute_result",
          "data": {
            "text/plain": [
              "2.31189896412068"
            ]
          },
          "metadata": {},
          "execution_count": 60
        }
      ]
    },
    {
      "cell_type": "code",
      "source": [
        "# perform 10000 bootraps\n",
        "#create an array to store bootstrap averages\n",
        "bootstrap_medians=[]\n",
        "for i in np.arange(10000):\n",
        "  new_bootstrap_median=one_bootstrap()  #calculate new bootstrapped median\n",
        "  bootstrap_medians.append(new_bootstrap_median)"
      ],
      "metadata": {
        "id": "4aKiQbhDMdGI"
      },
      "execution_count": 10,
      "outputs": []
    },
    {
      "cell_type": "code",
      "source": [
        "# A table was created\n",
        "bootstrap_medians_table=Table().with_column('bootstrap_medians',bootstrap_medians)\n",
        "bootstrap_medians_table"
      ],
      "metadata": {
        "colab": {
          "base_uri": "https://localhost:8080/",
          "height": 392
        },
        "id": "ThLpI4VLNDMK",
        "outputId": "3dc10e17-bdef-4d59-b532-4b41f2009098"
      },
      "execution_count": 14,
      "outputs": [
        {
          "output_type": "execute_result",
          "data": {
            "text/plain": [
              "bootstrap_medians\n",
              "2.15625\n",
              "2.02566\n",
              "1.88788\n",
              "2.0572\n",
              "2.42511\n",
              "2.0421\n",
              "1.82383\n",
              "1.74913\n",
              "2.14623\n",
              "1.77869\n",
              "... (9990 rows omitted)"
            ],
            "text/html": [
              "<table border=\"1\" class=\"dataframe\">\n",
              "    <thead>\n",
              "        <tr>\n",
              "            <th>bootstrap_medians</th>\n",
              "        </tr>\n",
              "    </thead>\n",
              "    <tbody>\n",
              "        <tr>\n",
              "            <td>2.15625          </td>\n",
              "        </tr>\n",
              "        <tr>\n",
              "            <td>2.02566          </td>\n",
              "        </tr>\n",
              "        <tr>\n",
              "            <td>1.88788          </td>\n",
              "        </tr>\n",
              "        <tr>\n",
              "            <td>2.0572           </td>\n",
              "        </tr>\n",
              "        <tr>\n",
              "            <td>2.42511          </td>\n",
              "        </tr>\n",
              "        <tr>\n",
              "            <td>2.0421           </td>\n",
              "        </tr>\n",
              "        <tr>\n",
              "            <td>1.82383          </td>\n",
              "        </tr>\n",
              "        <tr>\n",
              "            <td>1.74913          </td>\n",
              "        </tr>\n",
              "        <tr>\n",
              "            <td>2.14623          </td>\n",
              "        </tr>\n",
              "        <tr>\n",
              "            <td>1.77869          </td>\n",
              "        </tr>\n",
              "    </tbody>\n",
              "</table>\n",
              "<p>... (9990 rows omitted)</p>"
            ]
          },
          "metadata": {},
          "execution_count": 14
        }
      ]
    },
    {
      "cell_type": "code",
      "source": [
        "#Get the middle of 95% of the data\n",
        "#Our confidence interval is 95%\n",
        "left_marg=percentile(2.5,bootstrap_medians)\n",
        "right_marg=percentile(97.5,bootstrap_medians)\n",
        "left_marg,right_marg"
      ],
      "metadata": {
        "id": "Te9zcraQ00uU",
        "colab": {
          "base_uri": "https://localhost:8080/"
        },
        "outputId": "81d3f780-d7f0-4790-efa6-f77a95434510"
      },
      "execution_count": 11,
      "outputs": [
        {
          "output_type": "execute_result",
          "data": {
            "text/plain": [
              "(1.6377799235152042, 2.3668761626139547)"
            ]
          },
          "metadata": {},
          "execution_count": 11
        }
      ]
    },
    {
      "cell_type": "code",
      "source": [
        "#This code block is in order to work out the population median\n",
        "population_median=np.median(strawberry_pesticide_residue.column('PesticideResidue'))\n",
        "population_median"
      ],
      "metadata": {
        "colab": {
          "base_uri": "https://localhost:8080/"
        },
        "id": "ZBvAJlGRC13q",
        "outputId": "185cfb59-ef48-4366-8419-f7d17dbab9b4"
      },
      "execution_count": 6,
      "outputs": [
        {
          "output_type": "execute_result",
          "data": {
            "text/plain": [
              "2.0115508148728933"
            ]
          },
          "metadata": {},
          "execution_count": 6
        }
      ]
    },
    {
      "cell_type": "code",
      "source": [
        "#The confidence level was than draw on to the graph\n",
        "bootstrap_medians_table.hist()\n",
        "plots.scatter(population_median,0,color='red')\n",
        "plots.plot([left_marg,left_marg],[0,0.3],color='green')\n",
        "plots.plot([right_marg,right_marg],[0,0.3],color='green')"
      ],
      "metadata": {
        "colab": {
          "base_uri": "https://localhost:8080/",
          "height": 428
        },
        "id": "THcSqxJmDoYE",
        "outputId": "3341bf3d-ed73-4eff-89d3-13223432978f"
      },
      "execution_count": null,
      "outputs": [
        {
          "output_type": "execute_result",
          "data": {
            "text/plain": [
              "[<matplotlib.lines.Line2D at 0x7982befc0bb0>]"
            ]
          },
          "metadata": {},
          "execution_count": 72
        },
        {
          "output_type": "display_data",
          "data": {
            "text/plain": [
              "<Figure size 600x400 with 1 Axes>"
            ],
            "image/png": "[encoded data removed]"
          },
          "metadata": {}
        }
      ]
    },
    {
      "cell_type": "markdown",
      "source": [
        "f) Display your calculated confidence interval in a figure along with the distribution of the residue level values of all the strawberry plants and the statistic (mean or median) calculated for all the strawberries (5 marks)."
      ],
      "metadata": {
        "id": "tH5mtVdbEKbo"
      }
    },
    {
      "cell_type": "code",
      "source": [
        "#The confidence level was than draw on to the graph\n",
        "strawberry_pesticide_residue.hist()\n",
        "plots.scatter(population_median,0,color='red')\n",
        "plots.plot([left_marg,left_marg],[0,0.3],color='green')\n",
        "plots.plot([right_marg,right_marg],[0,0.3],color='green')"
      ],
      "metadata": {
        "colab": {
          "base_uri": "https://localhost:8080/",
          "height": 427
        },
        "id": "9qkfPnR-FeiZ",
        "outputId": "b58aa31e-fd8d-4e4b-98b4-c32b9889dabd"
      },
      "execution_count": 12,
      "outputs": [
        {
          "output_type": "execute_result",
          "data": {
            "text/plain": [
              "[<matplotlib.lines.Line2D at 0x7eab8f6e0dc0>]"
            ]
          },
          "metadata": {},
          "execution_count": 12
        },
        {
          "output_type": "display_data",
          "data": {
            "text/plain": [
              "<Figure size 600x400 with 1 Axes>"
            ],
            "image/png": "[encoded data removed]"
          },
          "metadata": {}
        }
      ]
    },
    {
      "cell_type": "code",
      "source": [
        "#This code block is in order to work out the population median\n",
        "population_median=np.median(strawberry_pesticide_residue.column('PesticideResidue'))\n",
        "population_median"
      ],
      "metadata": {
        "id": "j6jAXv8dpdVh"
      },
      "execution_count": null,
      "outputs": []
    },
    {
      "cell_type": "code",
      "source": [
        "#The confidence level was than draw on to the graph\n",
        "bootstrap_medians_table.hist()\n",
        "plots.scatter(population_median,0,color='red')\n",
        "plots.plot([left_marg,left_marg],[0,0.3],color='green')\n",
        "plots.plot([right_marg,right_marg],[0,0.3],color='green')"
      ],
      "metadata": {
        "id": "qc3dQmqC24Aj",
        "colab": {
          "base_uri": "https://localhost:8080/",
          "height": 428
        },
        "outputId": "3cf23fea-61cf-4886-8e62-cb3abf3dfd07"
      },
      "execution_count": 15,
      "outputs": [
        {
          "output_type": "execute_result",
          "data": {
            "text/plain": [
              "[<matplotlib.lines.Line2D at 0x7eab8e159a50>]"
            ]
          },
          "metadata": {},
          "execution_count": 15
        },
        {
          "output_type": "display_data",
          "data": {
            "text/plain": [
              "<Figure size 600x400 with 1 Axes>"
            ],
            "image/png": "[encoded data removed]"
          },
          "metadata": {}
        }
      ]
    },
    {
      "cell_type": "markdown",
      "source": [
        "g) Perform bootstrapping analysis on an additional 50 samples by taking a new random sample of 100 plants (from the complete population dataset) 50 times, perform bootstrapping on each new sample using your function created in (d) above, and saving all calculated interval margins in a table called ***interval***, with the columns ***left*** and ***right*** (8 marks)."
      ],
      "metadata": {
        "id": "84URjBWakwfJ"
      }
    },
    {
      "cell_type": "code",
      "source": [
        "#First I want to store the margins of the samples in empty arrays\n",
        "left_margins = []\n",
        "right_margins = []\n",
        "\n",
        "#Now I want to perform analysis based on 50 samples\n",
        "for i in range(50):\n",
        "    new_sample = strawberry_pesticide_residue.sample(100, with_replacement=False)   #This is from the dataset\n",
        "    bootstrapped_table = bootstraps(new_sample, 'PesticideResidue')   #function from d) used here\n",
        "    bootstrapped_values = bootstrapped_table.column('Bootstrapped Statistic')\n",
        "\n",
        "    left_margin = np.percentile(bootstrapped_values, 2.5)\n",
        "    right_margin = np.percentile(bootstrapped_values, 97.5)  #made use of np.percentile to work out the left and right margins.\n",
        "    left_margins.append(left_margin)\n",
        "    right_margins.append(right_margin)   #than I appended it"
      ],
      "metadata": {
        "id": "o5Q1v89x1H-J"
      },
      "execution_count": null,
      "outputs": []
    },
    {
      "cell_type": "code",
      "source": [
        "# A table was than generated as instructed.\n",
        "interval = Table().with_columns(\n",
        "    'left', left_margins,\n",
        "    'right', right_margins\n",
        ")\n",
        "interval"
      ],
      "metadata": {
        "colab": {
          "base_uri": "https://localhost:8080/",
          "height": 392
        },
        "id": "yB1Pvo7Q2o47",
        "outputId": "ce2f17a1-223a-401d-a5d9-3597062820a4"
      },
      "execution_count": null,
      "outputs": [
        {
          "output_type": "execute_result",
          "data": {
            "text/plain": [
              "left    | right\n",
              "1.59862 | 2.39618\n",
              "1.87727 | 2.69671\n",
              "2.04543 | 2.60486\n",
              "1.75831 | 2.22745\n",
              "2.04228 | 2.6031\n",
              "1.69848 | 2.54684\n",
              "1.36208 | 2.04768\n",
              "1.72398 | 2.32606\n",
              "1.853   | 2.38333\n",
              "1.46907 | 2.33999\n",
              "... (40 rows omitted)"
            ],
            "text/html": [
              "<table border=\"1\" class=\"dataframe\">\n",
              "    <thead>\n",
              "        <tr>\n",
              "            <th>left</th> <th>right</th>\n",
              "        </tr>\n",
              "    </thead>\n",
              "    <tbody>\n",
              "        <tr>\n",
              "            <td>1.59862</td> <td>2.39618</td>\n",
              "        </tr>\n",
              "        <tr>\n",
              "            <td>1.87727</td> <td>2.69671</td>\n",
              "        </tr>\n",
              "        <tr>\n",
              "            <td>2.04543</td> <td>2.60486</td>\n",
              "        </tr>\n",
              "        <tr>\n",
              "            <td>1.75831</td> <td>2.22745</td>\n",
              "        </tr>\n",
              "        <tr>\n",
              "            <td>2.04228</td> <td>2.6031 </td>\n",
              "        </tr>\n",
              "        <tr>\n",
              "            <td>1.69848</td> <td>2.54684</td>\n",
              "        </tr>\n",
              "        <tr>\n",
              "            <td>1.36208</td> <td>2.04768</td>\n",
              "        </tr>\n",
              "        <tr>\n",
              "            <td>1.72398</td> <td>2.32606</td>\n",
              "        </tr>\n",
              "        <tr>\n",
              "            <td>1.853  </td> <td>2.38333</td>\n",
              "        </tr>\n",
              "        <tr>\n",
              "            <td>1.46907</td> <td>2.33999</td>\n",
              "        </tr>\n",
              "    </tbody>\n",
              "</table>\n",
              "<p>... (40 rows omitted)</p>"
            ]
          },
          "metadata": {},
          "execution_count": 75
        }
      ]
    },
    {
      "cell_type": "markdown",
      "source": [
        "h) Create a function, called ***betw***, that takes two margins as input, and then determines whether the calculated statistic (average of median) for all strawberry plants falls within the interval. The function should return either ***yes*** or ***no*** (4 marks)."
      ],
      "metadata": {
        "id": "RbF02oy7MtsO"
      }
    },
    {
      "cell_type": "code",
      "source": [
        "#A median for all strawberry plants was calculated. Note this was the same as the code previously done before\n",
        "population_median=np.median(strawberry_pesticide_residue.column('PesticideResidue'))\n",
        "population_median"
      ],
      "metadata": {
        "id": "gcaTYGYcWHlc",
        "colab": {
          "base_uri": "https://localhost:8080/"
        },
        "outputId": "716643ce-2566-4f68-9f5d-e5cf2a7bb50e"
      },
      "execution_count": null,
      "outputs": [
        {
          "output_type": "execute_result",
          "data": {
            "text/plain": [
              "2.0115508148728933"
            ]
          },
          "metadata": {},
          "execution_count": 76
        }
      ]
    },
    {
      "cell_type": "code",
      "source": [
        "# The function was defined and if the population median falls between the left and right than it is within the interval (thus returning yes).\n",
        "#If it is not within the interval, it will return no.\n",
        "def betw(left,right):\n",
        "  if left <= population_median <= right:\n",
        "    return 'yes'\n",
        "  else:\n",
        "    return 'no'"
      ],
      "metadata": {
        "id": "UcrN9GzS3j3L"
      },
      "execution_count": null,
      "outputs": []
    },
    {
      "cell_type": "markdown",
      "source": [
        "i) Make use of the function ***betw*** to determine whether the calculated statistic for all the strawberry plants fall within the intervals calculated in (g) above. Add the answers to the table then calculate what percentage of the 50 intervals spanned the calculated statistic for all the strawberry plants (5 marks)."
      ],
      "metadata": {
        "id": "eW-o1lsQLLsO"
      }
    },
    {
      "cell_type": "code",
      "source": [
        "#Create an empty array\n",
        "within_interval=[]\n",
        "for i in range(len(interval.column(\"left\"))):\n",
        "  leftMargin=interval.column('left')[i]\n",
        "  rightMargin=interval.column('right')[i]\n",
        "  answer=betw(leftMargin,rightMargin)\n",
        "  within_interval.append(answer)   #Do not forget to append"
      ],
      "metadata": {
        "id": "LeCuWBXsXmn5"
      },
      "execution_count": null,
      "outputs": []
    },
    {
      "cell_type": "code",
      "source": [
        "interval=interval.with_column('within_interval',within_interval)\n",
        "interval"
      ],
      "metadata": {
        "id": "VeY3ZC_dYrQD",
        "colab": {
          "base_uri": "https://localhost:8080/",
          "height": 392
        },
        "outputId": "5521fc7a-dc4d-4e60-9ee3-e328bf9b454a"
      },
      "execution_count": null,
      "outputs": [
        {
          "output_type": "execute_result",
          "data": {
            "text/plain": [
              "left    | right   | within_interval\n",
              "1.59862 | 2.39618 | yes\n",
              "1.87727 | 2.69671 | yes\n",
              "2.04543 | 2.60486 | no\n",
              "1.75831 | 2.22745 | yes\n",
              "2.04228 | 2.6031  | no\n",
              "1.69848 | 2.54684 | yes\n",
              "1.36208 | 2.04768 | yes\n",
              "1.72398 | 2.32606 | yes\n",
              "1.853   | 2.38333 | yes\n",
              "1.46907 | 2.33999 | yes\n",
              "... (40 rows omitted)"
            ],
            "text/html": [
              "<table border=\"1\" class=\"dataframe\">\n",
              "    <thead>\n",
              "        <tr>\n",
              "            <th>left</th> <th>right</th> <th>within_interval</th>\n",
              "        </tr>\n",
              "    </thead>\n",
              "    <tbody>\n",
              "        <tr>\n",
              "            <td>1.59862</td> <td>2.39618</td> <td>yes            </td>\n",
              "        </tr>\n",
              "        <tr>\n",
              "            <td>1.87727</td> <td>2.69671</td> <td>yes            </td>\n",
              "        </tr>\n",
              "        <tr>\n",
              "            <td>2.04543</td> <td>2.60486</td> <td>no             </td>\n",
              "        </tr>\n",
              "        <tr>\n",
              "            <td>1.75831</td> <td>2.22745</td> <td>yes            </td>\n",
              "        </tr>\n",
              "        <tr>\n",
              "            <td>2.04228</td> <td>2.6031 </td> <td>no             </td>\n",
              "        </tr>\n",
              "        <tr>\n",
              "            <td>1.69848</td> <td>2.54684</td> <td>yes            </td>\n",
              "        </tr>\n",
              "        <tr>\n",
              "            <td>1.36208</td> <td>2.04768</td> <td>yes            </td>\n",
              "        </tr>\n",
              "        <tr>\n",
              "            <td>1.72398</td> <td>2.32606</td> <td>yes            </td>\n",
              "        </tr>\n",
              "        <tr>\n",
              "            <td>1.853  </td> <td>2.38333</td> <td>yes            </td>\n",
              "        </tr>\n",
              "        <tr>\n",
              "            <td>1.46907</td> <td>2.33999</td> <td>yes            </td>\n",
              "        </tr>\n",
              "    </tbody>\n",
              "</table>\n",
              "<p>... (40 rows omitted)</p>"
            ]
          },
          "metadata": {},
          "execution_count": 81
        }
      ]
    },
    {
      "cell_type": "code",
      "source": [
        "#caculating how many yes there are\n",
        "how_many_yes=interval.where('within_interval','yes').num_rows\n",
        "how_many_yes"
      ],
      "metadata": {
        "colab": {
          "base_uri": "https://localhost:8080/"
        },
        "id": "eKtScBlRv2YM",
        "outputId": "2fbbc3bb-601b-4eef-85e4-4d8175e60f6f"
      },
      "execution_count": null,
      "outputs": [
        {
          "output_type": "execute_result",
          "data": {
            "text/plain": [
              "44"
            ]
          },
          "metadata": {},
          "execution_count": 90
        }
      ]
    },
    {
      "cell_type": "code",
      "source": [
        "how_many_yes/50*100  #calculating the percentage of yes"
      ],
      "metadata": {
        "colab": {
          "base_uri": "https://localhost:8080/"
        },
        "id": "P9XS_w-GwBCE",
        "outputId": "0bab9b65-cc23-4a73-8dab-148592a2aa03"
      },
      "execution_count": null,
      "outputs": [
        {
          "output_type": "execute_result",
          "data": {
            "text/plain": [
              "88.0"
            ]
          },
          "metadata": {},
          "execution_count": 91
        }
      ]
    },
    {
      "cell_type": "markdown",
      "source": [
        "j) Complete the following code to display the 50 calculated confidence intervals, above each-other, in a single figure along with the distribution of the residue level values of all the strawberry plants and the statistic (mean or median) value calculated for all these plants. To do so replace all *** in the code below with the correct code, keeping all the other code as is (7 marks)."
      ],
      "metadata": {
        "id": "b7LFu1LvPhtg"
      }
    },
    {
      "cell_type": "code",
      "source": [
        "# plot with respect to the total population\n",
        "strawberry_pesticide_residue.hist('PesticideResidue')\n",
        "plots.ylim(-0.01,0.3)\n",
        "\n",
        "table_with_intervals = interval\n",
        "number_of_intervals = table_with_intervals.num_rows\n",
        "population_satistic = np.median(strawberry_pesticide_residue.column('PesticideResidue'))\n",
        "\n",
        "counter = 0.005\n",
        "for ii in np.arange(number_of_intervals):\n",
        "  # draw the confidence level on the graph\n",
        "\n",
        "  plots.plot(make_array(table_with_intervals.row(0).item(0),table_with_intervals.row(0).item(1)),\n",
        "             make_array(counter,counter),color='yellow')\n",
        "  counter += 0.0065\n",
        "\n",
        "plots.plot(make_array(population_satistic,population_satistic),\n",
        "           make_array(0,0.3),color='red')"
      ],
      "metadata": {
        "id": "2bnoHvHFa0Ds",
        "colab": {
          "base_uri": "https://localhost:8080/",
          "height": 434
        },
        "outputId": "06ce8e74-0476-4102-d9b0-24c5b8f37f1d"
      },
      "execution_count": null,
      "outputs": [
        {
          "output_type": "execute_result",
          "data": {
            "text/plain": [
              "[<matplotlib.lines.Line2D at 0x7982be285b10>]"
            ]
          },
          "metadata": {},
          "execution_count": 89
        },
        {
          "output_type": "display_data",
          "data": {
            "text/plain": [
              "<Figure size 600x400 with 1 Axes>"
            ],
            "image/png": "[encoded data removed]"
          },
          "metadata": {}
        }
      ]
    },
    {
      "cell_type": "markdown",
      "source": [
        "k) Discuss what you can learn from the answer generated in (i) and the figure generated in (j) above (2 marks)."
      ],
      "metadata": {
        "id": "Q_OhsUGLmHVe"
      }
    },
    {
      "cell_type": "markdown",
      "source": [
        "*Write your answer here.*"
      ],
      "metadata": {
        "id": "veCvEqbLmIQW"
      }
    },
    {
      "cell_type": "code",
      "source": [
        "#Answer in textbox below\n",
        "\n",
        "#One can see that 88% of the intervals contain the population median thus suggesting that the intervals represent the population medians very well and that the method employed to estimate the median is very reliable.\n",
        "\n",
        "#In the figure above, one can see the yellow interval alignments supports the consistency of the bootstrapped intervals with the population median (as shown with the red line).\n",
        "#Bootstrapping is thus effective in estimating this dataset and is suitable for understanding the central tendency of the pestice residue in strawberry plants."
      ],
      "metadata": {
        "id": "AQKed8ILmMpS"
      },
      "execution_count": null,
      "outputs": []
    },
    {
      "cell_type": "markdown",
      "source": [
        "One can see that 88% of the intervals contain the population median thus suggesting that the intervals represent the population medians very well and that the method employed to estimate the median is very reliable.\n",
        "\n",
        "In the figure above, one can see the yellow interval alignments supports the consistency of the bootstrapped intervals with the population median (as shown with the red line). Bootstrapping is thus effective in estimating this dataset and is suitable for understanding the central tendency of the pestice residue in strawberry plants."
      ],
      "metadata": {
        "id": "7yRzYWIiz6rC"
      }
    }
  ]
}