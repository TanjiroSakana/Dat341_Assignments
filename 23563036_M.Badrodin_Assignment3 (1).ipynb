{
  "nbformat": 4,
  "nbformat_minor": 0,
  "metadata": {
    "colab": {
      "provenance": []
    },
    "kernelspec": {
      "name": "python3",
      "display_name": "Python 3"
    },
    "language_info": {
      "name": "python"
    }
  },
  "cells": [
    {
      "cell_type": "markdown",
      "source": [
        "# DAT 341: Assignment 3 (2024)\n",
        "\n",
        "**(45 marks)**"
      ],
      "metadata": {
        "id": "LQePVcXOQgAm"
      }
    },
    {
      "cell_type": "markdown",
      "source": [
        "**Instructions**\n",
        "\n",
        "Add the following information to your notebook name before you submit:\n",
        "\n",
        "*  Your Student number\n",
        "\n",
        "*  Your Surname\n",
        "\n",
        "*  Your Initials\n",
        "\n",
        "Please complete all the questions below on this Google Notebook.\n",
        "\n",
        "Add code cells as needed.\n",
        "\n",
        "**Make use of comments within your coding cells to document your code at each step (#).**\n",
        "\n",
        "After completion, download the ipynb file and submit it using the assignment link on SunLearn.\n",
        "\n",
        "Submission deadline: 20 October 2024, before 20:00"
      ],
      "metadata": {
        "id": "Utl_FSDn_VQp"
      }
    },
    {
      "cell_type": "code",
      "source": [
        " #23563036 M.Badrodin (Muktaar Badrodin)"
      ],
      "metadata": {
        "id": "DCiTTTXN8kLe"
      },
      "execution_count": null,
      "outputs": []
    },
    {
      "cell_type": "code",
      "source": [
        "from datascience import *\n",
        "import numpy as np\n",
        "from google.colab import files\n",
        "%matplotlib inline\n",
        "import matplotlib.pyplot as plots\n",
        "plots.style.use('fivethirtyeight')"
      ],
      "metadata": {
        "id": "c0nyoiH_dItq"
      },
      "execution_count": 2,
      "outputs": []
    },
    {
      "cell_type": "markdown",
      "source": [
        "## **Question 1:**\n",
        "\n",
        "(23 marks in total)\n",
        "\n",
        "**Crop yield comparison between precision agriculture and traditional methods**\n",
        "\n",
        "Precision agriculture, which involves the use of modern technologies such as GPS, drones, and sensors, is believed to increase crop yield and improve farming efficiency. On the other hand, traditional farming methods, which rely more on manual labor and conventional tools, remain widely practiced. As part of a study to assess the impact of precision agriculture on crop yield, you are tasked with analysing and comparing data from farms using these two different approaches.\n",
        "\n",
        "The study was conducted on multiple farms, where half of the farms used precision agriculture techniques, and the other half followed traditional farming methods. The results were recorded over one growing season, and the crop yield (in tons) was measured.\n",
        "\n",
        "The data is captured in a file called crop_yield_data.csv, which contains the following columns:\n",
        "\n",
        "* Farm ID: A unique identifier for each farm.\n",
        "* Method: The farming method used (either \"Precision\" or \"Traditional\").\n",
        "* Area: The area of the farm in hectares.\n",
        "* Yield: The total crop yield in tons.\n"
      ],
      "metadata": {
        "id": "tf5G4MWZMEee"
      }
    },
    {
      "cell_type": "code",
      "source": [
        "# upload file\n",
        "uploaded = files.upload()"
      ],
      "metadata": {
        "id": "1Op4EDO1o80W",
        "colab": {
          "base_uri": "https://localhost:8080/",
          "height": 73
        },
        "outputId": "64815fd3-a08a-4bbb-b817-bcf0d4658a7f"
      },
      "execution_count": 3,
      "outputs": [
        {
          "output_type": "display_data",
          "data": {
            "text/plain": [
              "<IPython.core.display.HTML object>"
            ],
            "text/html": [
              "\n",
              "     <input type=\"file\" id=\"files-87e871cb-7ed0-4de3-81e6-d08ec6253d6d\" name=\"files[]\" multiple disabled\n",
              "        style=\"border:none\" />\n",
              "     <output id=\"result-87e871cb-7ed0-4de3-81e6-d08ec6253d6d\">\n",
              "      Upload widget is only available when the cell has been executed in the\n",
              "      current browser session. Please rerun this cell to enable.\n",
              "      </output>\n",
              "      <script>// Copyright 2017 Google LLC\n",
              "//\n",
              "// Licensed under the Apache License, Version 2.0 (the \"License\");\n",
              "// you may not use this file except in compliance with the License.\n",
              "// You may obtain a copy of the License at\n",
              "//\n",
              "//      http://www.apache.org/licenses/LICENSE-2.0\n",
              "//\n",
              "// Unless required by applicable law or agreed to in writing, software\n",
              "// distributed under the License is distributed on an \"AS IS\" BASIS,\n",
              "// WITHOUT WARRANTIES OR CONDITIONS OF ANY KIND, either express or implied.\n",
              "// See the License for the specific language governing permissions and\n",
              "// limitations under the License.\n",
              "\n",
              "/**\n",
              " * @fileoverview Helpers for google.colab Python module.\n",
              " */\n",
              "(function(scope) {\n",
              "function span(text, styleAttributes = {}) {\n",
              "  const element = document.createElement('span');\n",
              "  element.textContent = text;\n",
              "  for (const key of Object.keys(styleAttributes)) {\n",
              "    element.style[key] = styleAttributes[key];\n",
              "  }\n",
              "  return element;\n",
              "}\n",
              "\n",
              "// Max number of bytes which will be uploaded at a time.\n",
              "const MAX_PAYLOAD_SIZE = 100 * 1024;\n",
              "\n",
              "function _uploadFiles(inputId, outputId) {\n",
              "  const steps = uploadFilesStep(inputId, outputId);\n",
              "  const outputElement = document.getElementById(outputId);\n",
              "  // Cache steps on the outputElement to make it available for the next call\n",
              "  // to uploadFilesContinue from Python.\n",
              "  outputElement.steps = steps;\n",
              "\n",
              "  return _uploadFilesContinue(outputId);\n",
              "}\n",
              "\n",
              "// This is roughly an async generator (not supported in the browser yet),\n",
              "// where there are multiple asynchronous steps and the Python side is going\n",
              "// to poll for completion of each step.\n",
              "// This uses a Promise to block the python side on completion of each step,\n",
              "// then passes the result of the previous step as the input to the next step.\n",
              "function _uploadFilesContinue(outputId) {\n",
              "  const outputElement = document.getElementById(outputId);\n",
              "  const steps = outputElement.steps;\n",
              "\n",
              "  const next = steps.next(outputElement.lastPromiseValue);\n",
              "  return Promise.resolve(next.value.promise).then((value) => {\n",
              "    // Cache the last promise value to make it available to the next\n",
              "    // step of the generator.\n",
              "    outputElement.lastPromiseValue = value;\n",
              "    return next.value.response;\n",
              "  });\n",
              "}\n",
              "\n",
              "/**\n",
              " * Generator function which is called between each async step of the upload\n",
              " * process.\n",
              " * @param {string} inputId Element ID of the input file picker element.\n",
              " * @param {string} outputId Element ID of the output display.\n",
              " * @return {!Iterable<!Object>} Iterable of next steps.\n",
              " */\n",
              "function* uploadFilesStep(inputId, outputId) {\n",
              "  const inputElement = document.getElementById(inputId);\n",
              "  inputElement.disabled = false;\n",
              "\n",
              "  const outputElement = document.getElementById(outputId);\n",
              "  outputElement.innerHTML = '';\n",
              "\n",
              "  const pickedPromise = new Promise((resolve) => {\n",
              "    inputElement.addEventListener('change', (e) => {\n",
              "      resolve(e.target.files);\n",
              "    });\n",
              "  });\n",
              "\n",
              "  const cancel = document.createElement('button');\n",
              "  inputElement.parentElement.appendChild(cancel);\n",
              "  cancel.textContent = 'Cancel upload';\n",
              "  const cancelPromise = new Promise((resolve) => {\n",
              "    cancel.onclick = () => {\n",
              "      resolve(null);\n",
              "    };\n",
              "  });\n",
              "\n",
              "  // Wait for the user to pick the files.\n",
              "  const files = yield {\n",
              "    promise: Promise.race([pickedPromise, cancelPromise]),\n",
              "    response: {\n",
              "      action: 'starting',\n",
              "    }\n",
              "  };\n",
              "\n",
              "  cancel.remove();\n",
              "\n",
              "  // Disable the input element since further picks are not allowed.\n",
              "  inputElement.disabled = true;\n",
              "\n",
              "  if (!files) {\n",
              "    return {\n",
              "      response: {\n",
              "        action: 'complete',\n",
              "      }\n",
              "    };\n",
              "  }\n",
              "\n",
              "  for (const file of files) {\n",
              "    const li = document.createElement('li');\n",
              "    li.append(span(file.name, {fontWeight: 'bold'}));\n",
              "    li.append(span(\n",
              "        `(${file.type || 'n/a'}) - ${file.size} bytes, ` +\n",
              "        `last modified: ${\n",
              "            file.lastModifiedDate ? file.lastModifiedDate.toLocaleDateString() :\n",
              "                                    'n/a'} - `));\n",
              "    const percent = span('0% done');\n",
              "    li.appendChild(percent);\n",
              "\n",
              "    outputElement.appendChild(li);\n",
              "\n",
              "    const fileDataPromise = new Promise((resolve) => {\n",
              "      const reader = new FileReader();\n",
              "      reader.onload = (e) => {\n",
              "        resolve(e.target.result);\n",
              "      };\n",
              "      reader.readAsArrayBuffer(file);\n",
              "    });\n",
              "    // Wait for the data to be ready.\n",
              "    let fileData = yield {\n",
              "      promise: fileDataPromise,\n",
              "      response: {\n",
              "        action: 'continue',\n",
              "      }\n",
              "    };\n",
              "\n",
              "    // Use a chunked sending to avoid message size limits. See b/62115660.\n",
              "    let position = 0;\n",
              "    do {\n",
              "      const length = Math.min(fileData.byteLength - position, MAX_PAYLOAD_SIZE);\n",
              "      const chunk = new Uint8Array(fileData, position, length);\n",
              "      position += length;\n",
              "\n",
              "      const base64 = btoa(String.fromCharCode.apply(null, chunk));\n",
              "      yield {\n",
              "        response: {\n",
              "          action: 'append',\n",
              "          file: file.name,\n",
              "          data: base64,\n",
              "        },\n",
              "      };\n",
              "\n",
              "      let percentDone = fileData.byteLength === 0 ?\n",
              "          100 :\n",
              "          Math.round((position / fileData.byteLength) * 100);\n",
              "      percent.textContent = `${percentDone}% done`;\n",
              "\n",
              "    } while (position < fileData.byteLength);\n",
              "  }\n",
              "\n",
              "  // All done.\n",
              "  yield {\n",
              "    response: {\n",
              "      action: 'complete',\n",
              "    }\n",
              "  };\n",
              "}\n",
              "\n",
              "scope.google = scope.google || {};\n",
              "scope.google.colab = scope.google.colab || {};\n",
              "scope.google.colab._files = {\n",
              "  _uploadFiles,\n",
              "  _uploadFilesContinue,\n",
              "};\n",
              "})(self);\n",
              "</script> "
            ]
          },
          "metadata": {}
        },
        {
          "output_type": "stream",
          "name": "stdout",
          "text": [
            "Saving precision_farming.csv to precision_farming.csv\n"
          ]
        }
      ]
    },
    {
      "cell_type": "code",
      "source": [
        "# read file into table\n",
        "farming = Table.read_table('precision_farming.csv')\n",
        "farming"
      ],
      "metadata": {
        "colab": {
          "base_uri": "https://localhost:8080/",
          "height": 392
        },
        "id": "f06MiSBNir2U",
        "outputId": "eba76305-cfc9-4c6a-bec2-47b66102159d"
      },
      "execution_count": 4,
      "outputs": [
        {
          "output_type": "execute_result",
          "data": {
            "text/plain": [
              "level_0 | index | Farm ID | Method      | Area (hectares) | Yield (tons)\n",
              "0       | 1     | Farm_1  | Traditional | 43              | 192.008\n",
              "1       | 2     | Farm_2  | Traditional | 33              | 143.183\n",
              "2       | 3     | Farm_3  | Traditional | 19              | 82.6352\n",
              "3       | 4     | Farm_4  | Traditional | 47              | 192.08\n",
              "4       | 5     | Farm_5  | Traditional | 12              | 51.9737\n",
              "5       | 6     | Farm_6  | Traditional | 25              | 103.014\n",
              "6       | 7     | Farm_7  | Traditional | 43              | 168.384\n",
              "7       | 8     | Farm_8  | Traditional | 23              | 105.395\n",
              "8       | 9     | Farm_9  | Traditional | 27              | 104.682\n",
              "9       | 10    | Farm_10 | Traditional | 15              | 54.2275\n",
              "... (190 rows omitted)"
            ],
            "text/html": [
              "<table border=\"1\" class=\"dataframe\">\n",
              "    <thead>\n",
              "        <tr>\n",
              "            <th>level_0</th> <th>index</th> <th>Farm ID</th> <th>Method</th> <th>Area (hectares)</th> <th>Yield (tons)</th>\n",
              "        </tr>\n",
              "    </thead>\n",
              "    <tbody>\n",
              "        <tr>\n",
              "            <td>0      </td> <td>1    </td> <td>Farm_1 </td> <td>Traditional</td> <td>43             </td> <td>192.008     </td>\n",
              "        </tr>\n",
              "        <tr>\n",
              "            <td>1      </td> <td>2    </td> <td>Farm_2 </td> <td>Traditional</td> <td>33             </td> <td>143.183     </td>\n",
              "        </tr>\n",
              "        <tr>\n",
              "            <td>2      </td> <td>3    </td> <td>Farm_3 </td> <td>Traditional</td> <td>19             </td> <td>82.6352     </td>\n",
              "        </tr>\n",
              "        <tr>\n",
              "            <td>3      </td> <td>4    </td> <td>Farm_4 </td> <td>Traditional</td> <td>47             </td> <td>192.08      </td>\n",
              "        </tr>\n",
              "        <tr>\n",
              "            <td>4      </td> <td>5    </td> <td>Farm_5 </td> <td>Traditional</td> <td>12             </td> <td>51.9737     </td>\n",
              "        </tr>\n",
              "        <tr>\n",
              "            <td>5      </td> <td>6    </td> <td>Farm_6 </td> <td>Traditional</td> <td>25             </td> <td>103.014     </td>\n",
              "        </tr>\n",
              "        <tr>\n",
              "            <td>6      </td> <td>7    </td> <td>Farm_7 </td> <td>Traditional</td> <td>43             </td> <td>168.384     </td>\n",
              "        </tr>\n",
              "        <tr>\n",
              "            <td>7      </td> <td>8    </td> <td>Farm_8 </td> <td>Traditional</td> <td>23             </td> <td>105.395     </td>\n",
              "        </tr>\n",
              "        <tr>\n",
              "            <td>8      </td> <td>9    </td> <td>Farm_9 </td> <td>Traditional</td> <td>27             </td> <td>104.682     </td>\n",
              "        </tr>\n",
              "        <tr>\n",
              "            <td>9      </td> <td>10   </td> <td>Farm_10</td> <td>Traditional</td> <td>15             </td> <td>54.2275     </td>\n",
              "        </tr>\n",
              "    </tbody>\n",
              "</table>\n",
              "<p>... (190 rows omitted)</p>"
            ]
          },
          "metadata": {},
          "execution_count": 4
        }
      ]
    },
    {
      "cell_type": "markdown",
      "source": [
        "a) Assuming you are comparing crop yield per hectare for the different farming methods, what is your hypothesis? (1 mark)"
      ],
      "metadata": {
        "id": "ePFyFwJWalj0"
      }
    },
    {
      "cell_type": "markdown",
      "source": [],
      "metadata": {
        "id": "SnujyIJBuDVc"
      }
    },
    {
      "cell_type": "code",
      "source": [
        "#Answer in the textbox below\n",
        "\n",
        "#The null hypothesis is that there is no significant difference in terms of crop yield per hectare between the farms that makes use of precision agriculture and the farms that make use of traditional farming methods.\n",
        "# Any difference found is not significant and is purely by chance.\n",
        "\n",
        "#The alternative hypothesis is that there is a significant difference in terms of crop yield per hectare between the farms that makes use of precision agriculture and the farms that make use of traditional farming methods.\n",
        "# Difference found between the two methods is significant and is not solely due to chance."
      ],
      "metadata": {
        "id": "e-z-h0IJyk8_"
      },
      "execution_count": null,
      "outputs": []
    },
    {
      "cell_type": "markdown",
      "source": [
        "The null hypothesis is that there is no significant difference in terms of crop yield per hectare between the farms that makes use of precision agriculture and the farms that make use of traditional farming methods. Any difference found is not significant and is purely by chance.\n",
        "\n",
        "The alternative hypothesis is that there is a significant difference in terms of crop yield per hectare between the farms that makes use of precision agriculture and the farms that make use of traditional farming methods. Difference found between the two methods is significant and is not solely due to chance."
      ],
      "metadata": {
        "id": "XZmEvY0og1lB"
      }
    },
    {
      "cell_type": "markdown",
      "source": [
        "b) Determine the crop yield per hectare for each farm, then make use of A/B testing and 1000 simulations to determine at a 95% confidence level if precision agriculture techniques have a significant impact on crop yield per hectare compared to traditional farming practices. (20 marks)"
      ],
      "metadata": {
        "id": "Tm3TtK_XWdCz"
      }
    },
    {
      "cell_type": "code",
      "source": [
        "# look at the groups\n",
        "farming.group('Method')"
      ],
      "metadata": {
        "id": "g-oZvJJNockX",
        "colab": {
          "base_uri": "https://localhost:8080/",
          "height": 112
        },
        "outputId": "2c0fd674-0ab7-4006-e5be-daa40c7d68d8"
      },
      "execution_count": 5,
      "outputs": [
        {
          "output_type": "execute_result",
          "data": {
            "text/plain": [
              "Method      | count\n",
              "Precision   | 100\n",
              "Traditional | 100"
            ],
            "text/html": [
              "<table border=\"1\" class=\"dataframe\">\n",
              "    <thead>\n",
              "        <tr>\n",
              "            <th>Method</th> <th>count</th>\n",
              "        </tr>\n",
              "    </thead>\n",
              "    <tbody>\n",
              "        <tr>\n",
              "            <td>Precision  </td> <td>100  </td>\n",
              "        </tr>\n",
              "        <tr>\n",
              "            <td>Traditional</td> <td>100  </td>\n",
              "        </tr>\n",
              "    </tbody>\n",
              "</table>"
            ]
          },
          "metadata": {},
          "execution_count": 5
        }
      ]
    },
    {
      "cell_type": "code",
      "source": [
        "#indication of distribution\n",
        "#Note yield tons is already numerical in nature, no need to change it to numerical again\n",
        "#.pivot(x=Method,y=Yield (tons))\n",
        "farming.pivot(\"Method\",\"Yield (tons)\")"
      ],
      "metadata": {
        "id": "QsXuP0NjocwO",
        "colab": {
          "base_uri": "https://localhost:8080/",
          "height": 392
        },
        "outputId": "1c302e19-bd60-4be3-f8d8-9cda7b1950c1"
      },
      "execution_count": 6,
      "outputs": [
        {
          "output_type": "execute_result",
          "data": {
            "text/plain": [
              "Yield (tons) | Precision | Traditional\n",
              "17.6213      | 0         | 1\n",
              "17.772       | 1         | 0\n",
              "18.8561      | 1         | 0\n",
              "20.3349      | 1         | 0\n",
              "20.9428      | 0         | 1\n",
              "21.2049      | 0         | 1\n",
              "23.8205      | 0         | 1\n",
              "23.9179      | 0         | 1\n",
              "24.4706      | 1         | 0\n",
              "25.1854      | 1         | 0\n",
              "... (190 rows omitted)"
            ],
            "text/html": [
              "<table border=\"1\" class=\"dataframe\">\n",
              "    <thead>\n",
              "        <tr>\n",
              "            <th>Yield (tons)</th> <th>Precision</th> <th>Traditional</th>\n",
              "        </tr>\n",
              "    </thead>\n",
              "    <tbody>\n",
              "        <tr>\n",
              "            <td>17.6213     </td> <td>0        </td> <td>1          </td>\n",
              "        </tr>\n",
              "        <tr>\n",
              "            <td>17.772      </td> <td>1        </td> <td>0          </td>\n",
              "        </tr>\n",
              "        <tr>\n",
              "            <td>18.8561     </td> <td>1        </td> <td>0          </td>\n",
              "        </tr>\n",
              "        <tr>\n",
              "            <td>20.3349     </td> <td>1        </td> <td>0          </td>\n",
              "        </tr>\n",
              "        <tr>\n",
              "            <td>20.9428     </td> <td>0        </td> <td>1          </td>\n",
              "        </tr>\n",
              "        <tr>\n",
              "            <td>21.2049     </td> <td>0        </td> <td>1          </td>\n",
              "        </tr>\n",
              "        <tr>\n",
              "            <td>23.8205     </td> <td>0        </td> <td>1          </td>\n",
              "        </tr>\n",
              "        <tr>\n",
              "            <td>23.9179     </td> <td>0        </td> <td>1          </td>\n",
              "        </tr>\n",
              "        <tr>\n",
              "            <td>24.4706     </td> <td>1        </td> <td>0          </td>\n",
              "        </tr>\n",
              "        <tr>\n",
              "            <td>25.1854     </td> <td>1        </td> <td>0          </td>\n",
              "        </tr>\n",
              "    </tbody>\n",
              "</table>\n",
              "<p>... (190 rows omitted)</p>"
            ]
          },
          "metadata": {},
          "execution_count": 6
        }
      ]
    },
    {
      "cell_type": "code",
      "source": [
        "#Remember they wanted Yield (tons) per hectare so you would need to divide it up first.\n",
        "#Let us define a function to do just that.\n",
        "def yield_per_hectare(Yield_tons,hectare):\n",
        "  return Yield_tons/hectare"
      ],
      "metadata": {
        "id": "LWVfT-odaMjf"
      },
      "execution_count": 7,
      "outputs": []
    },
    {
      "cell_type": "code",
      "source": [
        "#name_of_table.apply(function, column1 arguement, column2 arguement)\n",
        "farming_table=farming.apply(yield_per_hectare,\"Yield (tons)\",\"Area (hectares)\")\n",
        "farming_table\n",
        "completed_table=farming.with_column(\"yield per hectare\",farming_table)   # New applied table added to the original table\n",
        "completed_table"
      ],
      "metadata": {
        "id": "HwkdgLE5vCnb",
        "colab": {
          "base_uri": "https://localhost:8080/",
          "height": 392
        },
        "outputId": "69eb7041-7a68-4a51-eb75-610fe75ee45b"
      },
      "execution_count": 8,
      "outputs": [
        {
          "output_type": "execute_result",
          "data": {
            "text/plain": [
              "level_0 | index | Farm ID | Method      | Area (hectares) | Yield (tons) | yield per hectare\n",
              "0       | 1     | Farm_1  | Traditional | 43              | 192.008      | 4.46529\n",
              "1       | 2     | Farm_2  | Traditional | 33              | 143.183      | 4.33888\n",
              "2       | 3     | Farm_3  | Traditional | 19              | 82.6352      | 4.34922\n",
              "3       | 4     | Farm_4  | Traditional | 47              | 192.08       | 4.0868\n",
              "4       | 5     | Farm_5  | Traditional | 12              | 51.9737      | 4.33114\n",
              "5       | 6     | Farm_6  | Traditional | 25              | 103.014      | 4.12056\n",
              "6       | 7     | Farm_7  | Traditional | 43              | 168.384      | 3.9159\n",
              "7       | 8     | Farm_8  | Traditional | 23              | 105.395      | 4.58238\n",
              "8       | 9     | Farm_9  | Traditional | 27              | 104.682      | 3.87713\n",
              "9       | 10    | Farm_10 | Traditional | 15              | 54.2275      | 3.61517\n",
              "... (190 rows omitted)"
            ],
            "text/html": [
              "<table border=\"1\" class=\"dataframe\">\n",
              "    <thead>\n",
              "        <tr>\n",
              "            <th>level_0</th> <th>index</th> <th>Farm ID</th> <th>Method</th> <th>Area (hectares)</th> <th>Yield (tons)</th> <th>yield per hectare</th>\n",
              "        </tr>\n",
              "    </thead>\n",
              "    <tbody>\n",
              "        <tr>\n",
              "            <td>0      </td> <td>1    </td> <td>Farm_1 </td> <td>Traditional</td> <td>43             </td> <td>192.008     </td> <td>4.46529          </td>\n",
              "        </tr>\n",
              "        <tr>\n",
              "            <td>1      </td> <td>2    </td> <td>Farm_2 </td> <td>Traditional</td> <td>33             </td> <td>143.183     </td> <td>4.33888          </td>\n",
              "        </tr>\n",
              "        <tr>\n",
              "            <td>2      </td> <td>3    </td> <td>Farm_3 </td> <td>Traditional</td> <td>19             </td> <td>82.6352     </td> <td>4.34922          </td>\n",
              "        </tr>\n",
              "        <tr>\n",
              "            <td>3      </td> <td>4    </td> <td>Farm_4 </td> <td>Traditional</td> <td>47             </td> <td>192.08      </td> <td>4.0868           </td>\n",
              "        </tr>\n",
              "        <tr>\n",
              "            <td>4      </td> <td>5    </td> <td>Farm_5 </td> <td>Traditional</td> <td>12             </td> <td>51.9737     </td> <td>4.33114          </td>\n",
              "        </tr>\n",
              "        <tr>\n",
              "            <td>5      </td> <td>6    </td> <td>Farm_6 </td> <td>Traditional</td> <td>25             </td> <td>103.014     </td> <td>4.12056          </td>\n",
              "        </tr>\n",
              "        <tr>\n",
              "            <td>6      </td> <td>7    </td> <td>Farm_7 </td> <td>Traditional</td> <td>43             </td> <td>168.384     </td> <td>3.9159           </td>\n",
              "        </tr>\n",
              "        <tr>\n",
              "            <td>7      </td> <td>8    </td> <td>Farm_8 </td> <td>Traditional</td> <td>23             </td> <td>105.395     </td> <td>4.58238          </td>\n",
              "        </tr>\n",
              "        <tr>\n",
              "            <td>8      </td> <td>9    </td> <td>Farm_9 </td> <td>Traditional</td> <td>27             </td> <td>104.682     </td> <td>3.87713          </td>\n",
              "        </tr>\n",
              "        <tr>\n",
              "            <td>9      </td> <td>10   </td> <td>Farm_10</td> <td>Traditional</td> <td>15             </td> <td>54.2275     </td> <td>3.61517          </td>\n",
              "        </tr>\n",
              "    </tbody>\n",
              "</table>\n",
              "<p>... (190 rows omitted)</p>"
            ]
          },
          "metadata": {},
          "execution_count": 8
        }
      ]
    },
    {
      "cell_type": "code",
      "source": [
        "# works out average\n",
        "means_table=completed_table.select(\"Method\",\"yield per hectare\").group(\"Method\",np.average)\n",
        "means_table"
      ],
      "metadata": {
        "id": "6xtKdr51vRK4",
        "colab": {
          "base_uri": "https://localhost:8080/",
          "height": 112
        },
        "outputId": "28826463-6e50-4e4b-f421-b05af3110861"
      },
      "execution_count": 9,
      "outputs": [
        {
          "output_type": "execute_result",
          "data": {
            "text/plain": [
              "Method      | yield per hectare average\n",
              "Precision   | 4.11622\n",
              "Traditional | 4.02206"
            ],
            "text/html": [
              "<table border=\"1\" class=\"dataframe\">\n",
              "    <thead>\n",
              "        <tr>\n",
              "            <th>Method</th> <th>yield per hectare average</th>\n",
              "        </tr>\n",
              "    </thead>\n",
              "    <tbody>\n",
              "        <tr>\n",
              "            <td>Precision  </td> <td>4.11622                  </td>\n",
              "        </tr>\n",
              "        <tr>\n",
              "            <td>Traditional</td> <td>4.02206                  </td>\n",
              "        </tr>\n",
              "    </tbody>\n",
              "</table>"
            ]
          },
          "metadata": {},
          "execution_count": 9
        }
      ]
    },
    {
      "cell_type": "code",
      "source": [
        "#makes it into an array\n",
        "means=means_table.column(1)\n",
        "means"
      ],
      "metadata": {
        "id": "dcIGDu9CvYag",
        "colab": {
          "base_uri": "https://localhost:8080/"
        },
        "outputId": "ee6f4418-048e-4259-e66f-4753c45354ed"
      },
      "execution_count": 10,
      "outputs": [
        {
          "output_type": "execute_result",
          "data": {
            "text/plain": [
              "array([ 4.11621858,  4.02206356])"
            ]
          },
          "metadata": {},
          "execution_count": 10
        }
      ]
    },
    {
      "cell_type": "code",
      "source": [
        "#working out observed difference\n",
        "#item selects element in array. (1)=> second element  (0)=> first element\n",
        "observed_difference=means.item(1)-means.item(0)\n",
        "observed_difference\n"
      ],
      "metadata": {
        "id": "mZ4LXA_scTya",
        "colab": {
          "base_uri": "https://localhost:8080/"
        },
        "outputId": "1e1e16de-e3dc-499d-9dd2-d11a7a49b721"
      },
      "execution_count": 11,
      "outputs": [
        {
          "output_type": "execute_result",
          "data": {
            "text/plain": [
              "-0.09415501558934913"
            ]
          },
          "metadata": {},
          "execution_count": 11
        }
      ]
    },
    {
      "cell_type": "code",
      "source": [
        "# function to calculate the difference in averages\n",
        "#original table, numerical value, categorical value\n",
        "#yield per hectare is the numerical value and Method is cat_value\n",
        "def difference_of_means(org_table,num_value,cat_value):\n",
        "  new_means_table=org_table.select(num_value,cat_value).group(cat_value,np.average)\n",
        "  new_means=new_means_table.column(1)\n",
        "  return new_means.item(1)-new_means.item(0)  #could also ran into a value."
      ],
      "metadata": {
        "id": "bQbHGedwvaEY"
      },
      "execution_count": 12,
      "outputs": []
    },
    {
      "cell_type": "code",
      "source": [
        "# test the function\n",
        "difference_of_means(completed_table,\"yield per hectare\",\"Method\")"
      ],
      "metadata": {
        "id": "e0r9NKoL_bUa",
        "colab": {
          "base_uri": "https://localhost:8080/"
        },
        "outputId": "a43895b6-db6f-46a4-ba71-0eb4b6648898"
      },
      "execution_count": 13,
      "outputs": [
        {
          "output_type": "execute_result",
          "data": {
            "text/plain": [
              "-0.09415501558934913"
            ]
          },
          "metadata": {},
          "execution_count": 13
        }
      ]
    },
    {
      "cell_type": "code",
      "source": [
        "#shuffle categories\n",
        "Shuffle_categories=completed_table.sample(with_replacement=False)\n",
        "Shuffle_categories"
      ],
      "metadata": {
        "colab": {
          "base_uri": "https://localhost:8080/",
          "height": 392
        },
        "id": "LdmZYY37nej5",
        "outputId": "9cd8ff0b-8dbc-49d2-cf49-7970dd8f6f07"
      },
      "execution_count": 14,
      "outputs": [
        {
          "output_type": "execute_result",
          "data": {
            "text/plain": [
              "level_0 | index | Farm ID | Method      | Area (hectares) | Yield (tons) | yield per hectare\n",
              "50      | 51    | Farm_51 | Traditional | 11              | 54.6981      | 4.97256\n",
              "95      | 96    | Farm_96 | Traditional | 48              | 214.235      | 4.46323\n",
              "69      | 70    | Farm_70 | Traditional | 40              | 181.316      | 4.5329\n",
              "131     | 132   | Farm_32 | Precision   | 32              | 136.752      | 4.27349\n",
              "89      | 90    | Farm_90 | Traditional | 5               | 17.6213      | 3.52426\n",
              "130     | 131   | Farm_31 | Precision   | 46              | 245.487      | 5.33667\n",
              "26      | 27    | Farm_27 | Traditional | 26              | 107.869      | 4.14883\n",
              "179     | 180   | Farm_80 | Precision   | 49              | 235.234      | 4.80069\n",
              "197     | 198   | Farm_98 | Precision   | 28              | 108.116      | 3.86129\n",
              "192     | 193   | Farm_93 | Precision   | 13              | 46.0986      | 3.54604\n",
              "... (190 rows omitted)"
            ],
            "text/html": [
              "<table border=\"1\" class=\"dataframe\">\n",
              "    <thead>\n",
              "        <tr>\n",
              "            <th>level_0</th> <th>index</th> <th>Farm ID</th> <th>Method</th> <th>Area (hectares)</th> <th>Yield (tons)</th> <th>yield per hectare</th>\n",
              "        </tr>\n",
              "    </thead>\n",
              "    <tbody>\n",
              "        <tr>\n",
              "            <td>50     </td> <td>51   </td> <td>Farm_51</td> <td>Traditional</td> <td>11             </td> <td>54.6981     </td> <td>4.97256          </td>\n",
              "        </tr>\n",
              "        <tr>\n",
              "            <td>95     </td> <td>96   </td> <td>Farm_96</td> <td>Traditional</td> <td>48             </td> <td>214.235     </td> <td>4.46323          </td>\n",
              "        </tr>\n",
              "        <tr>\n",
              "            <td>69     </td> <td>70   </td> <td>Farm_70</td> <td>Traditional</td> <td>40             </td> <td>181.316     </td> <td>4.5329           </td>\n",
              "        </tr>\n",
              "        <tr>\n",
              "            <td>131    </td> <td>132  </td> <td>Farm_32</td> <td>Precision  </td> <td>32             </td> <td>136.752     </td> <td>4.27349          </td>\n",
              "        </tr>\n",
              "        <tr>\n",
              "            <td>89     </td> <td>90   </td> <td>Farm_90</td> <td>Traditional</td> <td>5              </td> <td>17.6213     </td> <td>3.52426          </td>\n",
              "        </tr>\n",
              "        <tr>\n",
              "            <td>130    </td> <td>131  </td> <td>Farm_31</td> <td>Precision  </td> <td>46             </td> <td>245.487     </td> <td>5.33667          </td>\n",
              "        </tr>\n",
              "        <tr>\n",
              "            <td>26     </td> <td>27   </td> <td>Farm_27</td> <td>Traditional</td> <td>26             </td> <td>107.869     </td> <td>4.14883          </td>\n",
              "        </tr>\n",
              "        <tr>\n",
              "            <td>179    </td> <td>180  </td> <td>Farm_80</td> <td>Precision  </td> <td>49             </td> <td>235.234     </td> <td>4.80069          </td>\n",
              "        </tr>\n",
              "        <tr>\n",
              "            <td>197    </td> <td>198  </td> <td>Farm_98</td> <td>Precision  </td> <td>28             </td> <td>108.116     </td> <td>3.86129          </td>\n",
              "        </tr>\n",
              "        <tr>\n",
              "            <td>192    </td> <td>193  </td> <td>Farm_93</td> <td>Precision  </td> <td>13             </td> <td>46.0986     </td> <td>3.54604          </td>\n",
              "        </tr>\n",
              "    </tbody>\n",
              "</table>\n",
              "<p>... (190 rows omitted)</p>"
            ]
          },
          "metadata": {},
          "execution_count": 14
        }
      ]
    },
    {
      "cell_type": "code",
      "source": [
        "#shuffle categories and also make use of the .column function in relation to methods\n",
        "Shuffle_categories=completed_table.sample(with_replacement=False).column(\"Method\")\n",
        "Shuffle_categories    #Now you have an array of Precision and Traditional"
      ],
      "metadata": {
        "colab": {
          "base_uri": "https://localhost:8080/"
        },
        "id": "fIP5m7xYnjtn",
        "outputId": "00662250-abbf-47c6-ee4f-a003dafbf893"
      },
      "execution_count": 15,
      "outputs": [
        {
          "output_type": "execute_result",
          "data": {
            "text/plain": [
              "array(['Precision', 'Traditional', 'Traditional', 'Traditional',\n",
              "       'Precision', 'Precision', 'Traditional', 'Precision', 'Traditional',\n",
              "       'Traditional', 'Traditional', 'Precision', 'Traditional',\n",
              "       'Traditional', 'Traditional', 'Precision', 'Precision',\n",
              "       'Traditional', 'Precision', 'Traditional', 'Traditional',\n",
              "       'Precision', 'Precision', 'Precision', 'Precision', 'Traditional',\n",
              "       'Precision', 'Traditional', 'Traditional', 'Precision', 'Precision',\n",
              "       'Precision', 'Traditional', 'Precision', 'Precision', 'Precision',\n",
              "       'Traditional', 'Traditional', 'Precision', 'Traditional',\n",
              "       'Precision', 'Precision', 'Precision', 'Traditional', 'Precision',\n",
              "       'Traditional', 'Precision', 'Precision', 'Precision', 'Precision',\n",
              "       'Precision', 'Traditional', 'Traditional', 'Precision', 'Precision',\n",
              "       'Precision', 'Precision', 'Precision', 'Traditional', 'Traditional',\n",
              "       'Precision', 'Traditional', 'Traditional', 'Traditional',\n",
              "       'Precision', 'Traditional', 'Precision', 'Precision', 'Traditional',\n",
              "       'Precision', 'Traditional', 'Precision', 'Traditional', 'Precision',\n",
              "       'Traditional', 'Precision', 'Precision', 'Precision', 'Traditional',\n",
              "       'Traditional', 'Precision', 'Traditional', 'Traditional',\n",
              "       'Traditional', 'Traditional', 'Traditional', 'Traditional',\n",
              "       'Traditional', 'Traditional', 'Precision', 'Traditional',\n",
              "       'Precision', 'Precision', 'Precision', 'Traditional', 'Precision',\n",
              "       'Traditional', 'Traditional', 'Traditional', 'Precision',\n",
              "       'Precision', 'Traditional', 'Precision', 'Precision', 'Traditional',\n",
              "       'Precision', 'Traditional', 'Precision', 'Traditional',\n",
              "       'Traditional', 'Traditional', 'Traditional', 'Traditional',\n",
              "       'Traditional', 'Traditional', 'Traditional', 'Precision',\n",
              "       'Traditional', 'Precision', 'Precision', 'Precision', 'Traditional',\n",
              "       'Traditional', 'Precision', 'Precision', 'Precision', 'Precision',\n",
              "       'Precision', 'Precision', 'Precision', 'Precision', 'Traditional',\n",
              "       'Precision', 'Precision', 'Traditional', 'Traditional', 'Precision',\n",
              "       'Traditional', 'Traditional', 'Traditional', 'Traditional',\n",
              "       'Traditional', 'Precision', 'Precision', 'Precision', 'Traditional',\n",
              "       'Traditional', 'Precision', 'Traditional', 'Traditional',\n",
              "       'Precision', 'Traditional', 'Traditional', 'Traditional',\n",
              "       'Precision', 'Traditional', 'Traditional', 'Traditional',\n",
              "       'Traditional', 'Traditional', 'Traditional', 'Precision',\n",
              "       'Precision', 'Traditional', 'Precision', 'Traditional',\n",
              "       'Traditional', 'Precision', 'Precision', 'Traditional', 'Precision',\n",
              "       'Precision', 'Traditional', 'Precision', 'Traditional',\n",
              "       'Traditional', 'Precision', 'Precision', 'Precision', 'Precision',\n",
              "       'Traditional', 'Traditional', 'Traditional', 'Traditional',\n",
              "       'Precision', 'Precision', 'Precision', 'Precision', 'Precision',\n",
              "       'Precision', 'Traditional', 'Precision', 'Precision', 'Traditional',\n",
              "       'Traditional', 'Traditional', 'Precision', 'Traditional',\n",
              "       'Precision', 'Precision'],\n",
              "      dtype='<U11')"
            ]
          },
          "metadata": {},
          "execution_count": 15
        }
      ]
    },
    {
      "cell_type": "code",
      "source": [
        "# add it to the table\n",
        "original_and_shuffled=completed_table.with_column(\"Shuffled_Method\",Shuffle_categories)\n",
        "original_and_shuffled"
      ],
      "metadata": {
        "colab": {
          "base_uri": "https://localhost:8080/",
          "height": 392
        },
        "id": "_P6lSFYCny9x",
        "outputId": "ae7c7aba-cc82-43c3-c3a1-6eba0202ed4f"
      },
      "execution_count": 16,
      "outputs": [
        {
          "output_type": "execute_result",
          "data": {
            "text/plain": [
              "level_0 | index | Farm ID | Method      | Area (hectares) | Yield (tons) | yield per hectare | Shuffled_Method\n",
              "0       | 1     | Farm_1  | Traditional | 43              | 192.008      | 4.46529           | Precision\n",
              "1       | 2     | Farm_2  | Traditional | 33              | 143.183      | 4.33888           | Traditional\n",
              "2       | 3     | Farm_3  | Traditional | 19              | 82.6352      | 4.34922           | Traditional\n",
              "3       | 4     | Farm_4  | Traditional | 47              | 192.08       | 4.0868            | Traditional\n",
              "4       | 5     | Farm_5  | Traditional | 12              | 51.9737      | 4.33114           | Precision\n",
              "5       | 6     | Farm_6  | Traditional | 25              | 103.014      | 4.12056           | Precision\n",
              "6       | 7     | Farm_7  | Traditional | 43              | 168.384      | 3.9159            | Traditional\n",
              "7       | 8     | Farm_8  | Traditional | 23              | 105.395      | 4.58238           | Precision\n",
              "8       | 9     | Farm_9  | Traditional | 27              | 104.682      | 3.87713           | Traditional\n",
              "9       | 10    | Farm_10 | Traditional | 15              | 54.2275      | 3.61517           | Traditional\n",
              "... (190 rows omitted)"
            ],
            "text/html": [
              "<table border=\"1\" class=\"dataframe\">\n",
              "    <thead>\n",
              "        <tr>\n",
              "            <th>level_0</th> <th>index</th> <th>Farm ID</th> <th>Method</th> <th>Area (hectares)</th> <th>Yield (tons)</th> <th>yield per hectare</th> <th>Shuffled_Method</th>\n",
              "        </tr>\n",
              "    </thead>\n",
              "    <tbody>\n",
              "        <tr>\n",
              "            <td>0      </td> <td>1    </td> <td>Farm_1 </td> <td>Traditional</td> <td>43             </td> <td>192.008     </td> <td>4.46529          </td> <td>Precision      </td>\n",
              "        </tr>\n",
              "        <tr>\n",
              "            <td>1      </td> <td>2    </td> <td>Farm_2 </td> <td>Traditional</td> <td>33             </td> <td>143.183     </td> <td>4.33888          </td> <td>Traditional    </td>\n",
              "        </tr>\n",
              "        <tr>\n",
              "            <td>2      </td> <td>3    </td> <td>Farm_3 </td> <td>Traditional</td> <td>19             </td> <td>82.6352     </td> <td>4.34922          </td> <td>Traditional    </td>\n",
              "        </tr>\n",
              "        <tr>\n",
              "            <td>3      </td> <td>4    </td> <td>Farm_4 </td> <td>Traditional</td> <td>47             </td> <td>192.08      </td> <td>4.0868           </td> <td>Traditional    </td>\n",
              "        </tr>\n",
              "        <tr>\n",
              "            <td>4      </td> <td>5    </td> <td>Farm_5 </td> <td>Traditional</td> <td>12             </td> <td>51.9737     </td> <td>4.33114          </td> <td>Precision      </td>\n",
              "        </tr>\n",
              "        <tr>\n",
              "            <td>5      </td> <td>6    </td> <td>Farm_6 </td> <td>Traditional</td> <td>25             </td> <td>103.014     </td> <td>4.12056          </td> <td>Precision      </td>\n",
              "        </tr>\n",
              "        <tr>\n",
              "            <td>6      </td> <td>7    </td> <td>Farm_7 </td> <td>Traditional</td> <td>43             </td> <td>168.384     </td> <td>3.9159           </td> <td>Traditional    </td>\n",
              "        </tr>\n",
              "        <tr>\n",
              "            <td>7      </td> <td>8    </td> <td>Farm_8 </td> <td>Traditional</td> <td>23             </td> <td>105.395     </td> <td>4.58238          </td> <td>Precision      </td>\n",
              "        </tr>\n",
              "        <tr>\n",
              "            <td>8      </td> <td>9    </td> <td>Farm_9 </td> <td>Traditional</td> <td>27             </td> <td>104.682     </td> <td>3.87713          </td> <td>Traditional    </td>\n",
              "        </tr>\n",
              "        <tr>\n",
              "            <td>9      </td> <td>10   </td> <td>Farm_10</td> <td>Traditional</td> <td>15             </td> <td>54.2275     </td> <td>3.61517          </td> <td>Traditional    </td>\n",
              "        </tr>\n",
              "    </tbody>\n",
              "</table>\n",
              "<p>... (190 rows omitted)</p>"
            ]
          },
          "metadata": {},
          "execution_count": 16
        }
      ]
    },
    {
      "cell_type": "code",
      "source": [
        "# calculate diff in mean for shuffled data\n",
        "\n",
        "#yield per hectare is the numerical value while Shuffled_Method is catagorical\n",
        "difference_of_means(original_and_shuffled,\"yield per hectare\",\"Shuffled_Method\")"
      ],
      "metadata": {
        "colab": {
          "base_uri": "https://localhost:8080/"
        },
        "id": "m4iwgYpAoHMq",
        "outputId": "ea56f23a-2392-4689-c2e3-e80b1ec323e4"
      },
      "execution_count": 17,
      "outputs": [
        {
          "output_type": "execute_result",
          "data": {
            "text/plain": [
              "-0.00503820402492039"
            ]
          },
          "metadata": {},
          "execution_count": 17
        }
      ]
    },
    {
      "cell_type": "code",
      "source": [
        "# show observed difference in mean\n",
        "observed_difference"
      ],
      "metadata": {
        "colab": {
          "base_uri": "https://localhost:8080/"
        },
        "id": "Elh9ZodzoRAr",
        "outputId": "8020b182-11bd-446b-ee09-42c3b4c65e93"
      },
      "execution_count": 18,
      "outputs": [
        {
          "output_type": "execute_result",
          "data": {
            "text/plain": [
              "-0.09415501558934913"
            ]
          },
          "metadata": {},
          "execution_count": 18
        }
      ]
    },
    {
      "cell_type": "code",
      "source": [
        "# function to generate in simmulated diff in mean\n",
        "def one_simulated_difference(table,num_value,cat_value):\n",
        "  new_shuffled_categories=table.sample(with_replacement=False).column(cat_value)\n",
        "  new_shuffled_table=table.with_column(\"Shuffled_Method\",new_shuffled_categories)\n",
        "  return difference_of_means(new_shuffled_table,num_value,\"Shuffled_Method\")"
      ],
      "metadata": {
        "id": "1TP9uDNwojBD"
      },
      "execution_count": 19,
      "outputs": []
    },
    {
      "cell_type": "code",
      "source": [
        "one_simulated_difference(completed_table,\"yield per hectare\",\"Method\")"
      ],
      "metadata": {
        "colab": {
          "base_uri": "https://localhost:8080/"
        },
        "id": "C75pQAIAoqOl",
        "outputId": "3c422ca0-5ee8-452f-9211-3fa097863d0a"
      },
      "execution_count": 20,
      "outputs": [
        {
          "output_type": "execute_result",
          "data": {
            "text/plain": [
              "-0.0831227821861047"
            ]
          },
          "metadata": {},
          "execution_count": 20
        }
      ]
    },
    {
      "cell_type": "code",
      "source": [
        "# simulate many differences\n",
        "#we need an array than we can turn into a table\n",
        "#lets do 1000 with a 95% confidence interval\n",
        "difference=make_array()\n",
        "for i in np.arange(1000):\n",
        "  new_diff=one_simulated_difference(completed_table,\"yield per hectare\",\"Method\")\n",
        "  difference=np.append(difference,new_diff)"
      ],
      "metadata": {
        "id": "GNeeCvT4o0KO"
      },
      "execution_count": 21,
      "outputs": []
    },
    {
      "cell_type": "code",
      "source": [
        "#Output the difference\n",
        "difference"
      ],
      "metadata": {
        "colab": {
          "base_uri": "https://localhost:8080/"
        },
        "id": "9tq104bKpDBW",
        "outputId": "de689c0b-c4e8-48c8-ace7-10380759d89a"
      },
      "execution_count": 22,
      "outputs": [
        {
          "output_type": "execute_result",
          "data": {
            "text/plain": [
              "array([ -1.29483146e-01,  -1.24726165e-01,   3.33636745e-02,\n",
              "         9.65630526e-02,   8.70191452e-02,  -2.76796546e-03,\n",
              "        -5.02050835e-02,  -1.12116260e-01,   1.33702810e-03,\n",
              "         1.81566014e-02,   6.25790289e-02,   2.96149909e-02,\n",
              "        -1.82191909e-02,   5.68123987e-05,   1.07680561e-01,\n",
              "         8.51162248e-02,  -4.06980363e-02,   5.06052734e-02,\n",
              "         1.62786633e-02,  -3.52155766e-02,   5.37477238e-02,\n",
              "        -2.71683016e-02,  -2.62833287e-04,   1.26669883e-02,\n",
              "        -5.46011437e-02,  -8.69332194e-02,   1.38476335e-02,\n",
              "         4.78089173e-02,   7.94477307e-02,   1.27280303e-01,\n",
              "         2.51726124e-02,  -3.99509447e-02,  -1.40944053e-01,\n",
              "        -6.01958153e-02,   3.74586265e-02,   9.40340517e-02,\n",
              "        -1.18652505e-01,   2.45607234e-02,  -8.54221202e-02,\n",
              "         3.17489122e-02,   1.73067314e-03,  -2.46764741e-02,\n",
              "         6.70661288e-02,   3.48464975e-03,  -8.93083154e-02,\n",
              "        -9.52472318e-02,  -6.67320104e-02,  -2.06119207e-02,\n",
              "         9.51795760e-02,   1.40865243e-01,  -2.79896847e-02,\n",
              "         6.99142258e-02,  -7.05851033e-02,   3.99882715e-02,\n",
              "        -4.90386936e-02,  -8.93646921e-02,  -2.19205721e-02,\n",
              "         4.67753578e-02,   1.06000806e-01,  -4.62782969e-02,\n",
              "        -6.82488313e-02,   1.73357167e-01,  -4.34439592e-03,\n",
              "         4.32360956e-02,  -5.91559756e-02,  -6.45185529e-02,\n",
              "         8.34204896e-02,  -7.89829277e-03,  -2.65631634e-03,\n",
              "        -3.43696337e-02,   4.01935953e-02,  -1.18881428e-01,\n",
              "        -3.45842070e-04,  -2.65170300e-02,  -4.36118105e-03,\n",
              "        -7.11265683e-03,   1.53057087e-01,   1.06269605e-01,\n",
              "        -3.85705288e-02,   5.54691440e-02,   6.40685019e-02,\n",
              "        -2.41830234e-02,  -2.81714065e-02,  -7.42127241e-02,\n",
              "         4.44453311e-02,  -6.08212081e-02,   5.51994897e-02,\n",
              "        -2.80630580e-02,   3.35431493e-02,   1.39277820e-01,\n",
              "         2.01643450e-02,   5.28481162e-03,  -1.00138115e-02,\n",
              "        -5.89241665e-02,  -3.75953154e-02,  -9.99650161e-02,\n",
              "        -5.17040236e-03,  -1.00916771e-01,  -9.85469743e-02,\n",
              "        -6.94653390e-03,   1.03785280e-01,   1.71080198e-01,\n",
              "        -1.21574895e-01,   8.29385186e-02,  -9.19741711e-02,\n",
              "        -2.21424427e-02,   5.57355733e-02,  -2.54423296e-02,\n",
              "        -6.44881497e-02,  -1.71401190e-02,   2.28271030e-02,\n",
              "        -1.11862474e-01,  -5.56004028e-02,   9.48495727e-02,\n",
              "         8.93807340e-02,   1.63991104e-02,   1.12516743e-01,\n",
              "         1.81166678e-01,  -5.87268682e-02,  -6.19760102e-02,\n",
              "        -4.09649553e-02,   6.79415139e-02,   2.29440689e-02,\n",
              "        -9.58393647e-02,  -5.14724658e-02,   1.11752029e-01,\n",
              "         7.16469730e-02,  -1.73645325e-02,   5.57953513e-02,\n",
              "         4.74417927e-02,   4.17440740e-02,   7.19173760e-02,\n",
              "        -1.00621233e-02,  -1.39793292e-02,   4.35147018e-02,\n",
              "        -1.51056607e-01,   5.48914895e-02,   7.92302865e-02,\n",
              "         8.06034592e-02,   5.45983209e-02,   5.30110640e-02,\n",
              "        -1.01659711e-01,  -9.20331962e-02,  -2.05943232e-02,\n",
              "         9.37504444e-02,  -5.38928226e-02,  -8.34597702e-02,\n",
              "         1.08655630e-02,  -1.42973290e-02,  -1.40852567e-01,\n",
              "        -6.21907754e-02,  -2.85225250e-02,  -6.98604336e-03,\n",
              "         1.02994520e-02,   4.33779337e-02,  -8.77944645e-02,\n",
              "        -3.92902013e-02,   9.45925904e-02,   9.32956548e-02,\n",
              "         3.89295740e-02,  -3.83361291e-03,  -9.86091112e-02,\n",
              "         1.28092874e-01,   4.47946768e-03,   4.79079510e-02,\n",
              "         1.43604464e-02,   1.76987024e-02,   3.14258197e-02,\n",
              "         2.21197211e-02,  -5.99380518e-02,   6.65802580e-02,\n",
              "         2.55912513e-02,   5.89592799e-02,  -9.86037314e-02,\n",
              "        -7.32051137e-04,  -1.12791898e-01,  -1.03336870e-01,\n",
              "         4.83597600e-02,  -2.57643029e-02,  -3.07655175e-02,\n",
              "         1.51420671e-01,   3.81370830e-02,   2.15816832e-02,\n",
              "         1.03977002e-01,   3.81163304e-02,  -7.20725952e-03,\n",
              "        -8.32885903e-03,  -3.90767810e-02,  -2.06829564e-02,\n",
              "        -1.20047874e-01,  -9.20462349e-02,  -4.98912741e-02,\n",
              "         8.68962651e-02,   5.71444914e-02,  -6.93014545e-02,\n",
              "        -1.87102898e-02,   2.67886371e-02,   9.07167057e-02,\n",
              "        -1.38987684e-01,  -6.68401028e-02,   3.90371847e-02,\n",
              "         1.00070492e-01,  -8.07145285e-02,   6.57650517e-02,\n",
              "        -1.07265240e-01,  -2.59602942e-02,  -1.14487368e-02,\n",
              "        -6.60785033e-02,  -5.12634352e-02,  -5.47027639e-02,\n",
              "         1.39799163e-02,   2.58024789e-02,   3.38063979e-02,\n",
              "        -2.65966813e-02,   2.60597721e-02,  -5.84126932e-02,\n",
              "         7.35245768e-02,   5.02610846e-02,   1.25891865e-01,\n",
              "         3.27582273e-02,   1.32807441e-02,   2.84018680e-02,\n",
              "        -8.47753530e-02,  -1.18401173e-01,   4.25891722e-02,\n",
              "         9.35075247e-02,  -6.51522627e-02,   5.19870127e-02,\n",
              "         1.18408846e-01,   3.41001735e-02,   1.11222958e-01,\n",
              "         3.46329268e-02,  -6.63617864e-02,  -8.87169171e-02,\n",
              "        -7.13461546e-02,   4.50531829e-02,  -6.80620026e-02,\n",
              "         8.61290236e-02,  -6.81266156e-03,   7.44360181e-02,\n",
              "        -5.38076422e-02,   4.74029977e-02,   2.32225308e-02,\n",
              "         4.35487226e-02,   1.04124500e-01,  -7.05684454e-02,\n",
              "        -1.47203872e-02,   2.71215392e-02,  -3.22103434e-02,\n",
              "         6.30036623e-02,  -1.69781777e-02,  -7.71905712e-02,\n",
              "         9.59859272e-03,  -1.33104516e-01,  -2.96777707e-02,\n",
              "         6.55209440e-02,   6.55312905e-02,   3.73014878e-02,\n",
              "         5.64487133e-02,  -1.32380385e-01,  -3.56519826e-03,\n",
              "         5.67688185e-02,  -2.21620007e-03,  -4.64822966e-02,\n",
              "         1.42426856e-02,   1.37661084e-01,  -2.71240083e-02,\n",
              "         3.26970551e-03,   4.69259348e-02,   8.11227176e-02,\n",
              "        -8.12865720e-02,  -1.32322215e-01,  -8.81152818e-02,\n",
              "         5.51739500e-02,  -1.83106966e-02,  -1.00178826e-01,\n",
              "         8.85154253e-02,  -1.44590630e-01,   5.05552565e-02,\n",
              "         4.91532964e-02,  -1.18798715e-01,   6.93321364e-02,\n",
              "         1.75590165e-01,  -1.91935397e-02,  -2.87451285e-02,\n",
              "         3.23219589e-02,   9.58931459e-02,   3.16073129e-02,\n",
              "        -1.49176717e-01,  -1.94493262e-02,   6.06510871e-02,\n",
              "        -6.97623082e-03,  -6.96283298e-02,  -1.34468482e-01,\n",
              "        -8.94601092e-02,  -5.40726253e-02,  -3.32484113e-02,\n",
              "         4.49940489e-02,   5.57280907e-02,   4.41619206e-02,\n",
              "         1.33633123e-01,   4.53549352e-03,  -2.70050077e-02,\n",
              "         8.60260379e-02,  -5.14297931e-02,   5.43064286e-02,\n",
              "        -2.82011496e-02,  -3.48075053e-02,  -6.66466646e-02,\n",
              "        -7.10563208e-02,   8.70199747e-02,  -1.12966279e-01,\n",
              "         5.47910529e-02,   5.26779133e-02,   6.68063122e-02,\n",
              "         8.65347459e-02,   2.04084022e-02,   3.21219392e-02,\n",
              "         7.35967728e-02,   1.12723447e-01,  -3.66472025e-02,\n",
              "         1.56342452e-02,  -1.31551033e-01,  -4.21347282e-02,\n",
              "         1.27389783e-02,  -1.03134523e-01,   4.10423613e-02,\n",
              "        -9.75693260e-02,  -8.50147580e-02,   1.27030136e-01,\n",
              "         6.75348130e-02,   8.44515906e-02,  -4.14206015e-02,\n",
              "        -7.11363251e-02,  -1.74551099e-02,  -2.15266986e-02,\n",
              "         1.43458350e-02,   2.90098244e-02,  -7.89125153e-03,\n",
              "         1.23934576e-01,   9.27613878e-03,   3.81874443e-02,\n",
              "         6.06281843e-02,   1.07145000e-01,   4.16993134e-02,\n",
              "         8.16062467e-02,   1.54379754e-01,   4.86653864e-02,\n",
              "        -4.90752574e-02,  -2.10779823e-03,  -6.86115630e-02,\n",
              "        -1.00189966e-01,   8.02298203e-02,  -4.92918630e-02,\n",
              "         7.92080254e-02,   4.13944248e-02,  -9.24684846e-02,\n",
              "        -8.72561599e-02,  -1.24636126e-01,   6.74974438e-02,\n",
              "         2.37683353e-02,  -5.39693906e-02,   4.07614981e-02,\n",
              "        -3.07920103e-02,  -4.01778225e-02,  -4.71077902e-02,\n",
              "         2.09649438e-02,  -5.85365716e-02,  -3.47179170e-02,\n",
              "        -6.73978527e-02,   9.32834752e-03,   1.10829728e-01,\n",
              "         4.10084591e-02,  -5.84751102e-02,   1.31727118e-01,\n",
              "        -3.90776421e-02,  -2.87971560e-02,   4.69600891e-02,\n",
              "         1.02057049e-01,   6.51365738e-02,  -1.47254651e-02,\n",
              "         2.28289105e-03,  -1.49107735e-02,  -2.46681590e-02,\n",
              "         1.13670890e-01,   8.40003140e-03,  -4.88383420e-02,\n",
              "        -1.08136696e-02,   8.60406765e-03,  -3.89269278e-02,\n",
              "         2.40304543e-02,   3.02460383e-03,  -5.59623062e-02,\n",
              "        -1.11151202e-02,   1.92900883e-02,   6.24653788e-03,\n",
              "        -3.84287677e-02,  -1.06912873e-01,   4.49518661e-03,\n",
              "         2.99879196e-02,   7.84060287e-03,   4.31203539e-02,\n",
              "         3.78045023e-02,   2.09125674e-01,  -7.49376623e-02,\n",
              "        -5.65606735e-02,  -1.05469181e-01,   8.07094702e-03,\n",
              "         2.93817027e-03,  -8.78522690e-02,   8.05450130e-02,\n",
              "        -7.74512902e-02,  -3.14889605e-02,   1.07322460e-02,\n",
              "         5.14653590e-02,  -2.18331010e-02,   4.38250162e-02,\n",
              "        -2.97265826e-02,   3.72731728e-02,  -3.05226850e-02,\n",
              "         7.42320359e-02,  -1.13839028e-01,   6.42875438e-02,\n",
              "        -1.37503865e-01,  -9.04541409e-03,   4.07575472e-02,\n",
              "         4.92018210e-02,  -1.81581645e-02,   3.54428608e-02,\n",
              "        -4.23657645e-02,  -4.14186902e-02,   1.03725942e-01,\n",
              "         4.74553684e-02,  -8.05885431e-02,   4.42260694e-02,\n",
              "        -3.31136494e-02,  -5.39525689e-02,   1.25721029e-01,\n",
              "         2.90712825e-02,   1.71556925e-02,  -2.15989960e-02,\n",
              "        -4.28871860e-02,  -8.18459598e-02,  -1.16399388e-01,\n",
              "        -2.72099242e-02,  -3.47579049e-02,   5.08656528e-02,\n",
              "        -5.23120351e-02,  -2.66594392e-02,   5.87673632e-02,\n",
              "        -6.40942395e-02,   1.68789001e-02,   5.39601850e-02,\n",
              "         3.53877562e-02,   5.29304153e-02,  -1.00030547e-01,\n",
              "        -7.18603821e-02,   7.53160140e-02,   4.11723786e-03,\n",
              "        -3.16535535e-02,  -1.18595121e-01,  -2.09215272e-02,\n",
              "        -7.12761140e-02,   1.08969208e-01,  -4.83740716e-02,\n",
              "         9.14879151e-02,   5.24844162e-02,   7.47580457e-02,\n",
              "        -6.09557126e-02,  -1.57669667e-01,   1.54655231e-02,\n",
              "         1.88683331e-01,   3.25242585e-02,   3.76016739e-02,\n",
              "         1.04195950e-01,  -1.73776178e-02,   7.97571946e-02,\n",
              "         8.56982039e-03,   3.64972472e-02,  -9.03027245e-02,\n",
              "        -7.83341190e-02,  -1.76051513e-02,  -1.32354487e-01,\n",
              "        -6.75545907e-02,   1.40546619e-01,   3.41934844e-02,\n",
              "         4.61639608e-02,   6.45430585e-02,   3.53176875e-02,\n",
              "         6.66557530e-02,  -7.34290080e-02,  -2.64760145e-02,\n",
              "        -3.48714845e-02,  -9.30331307e-02,   5.88414936e-02,\n",
              "         1.17269156e-02,  -4.89699234e-02,  -6.39143568e-02,\n",
              "         4.75020437e-02,  -1.32012695e-01,  -1.38626802e-01,\n",
              "        -5.67441499e-03,   6.53904167e-02,  -2.19746636e-02,\n",
              "         2.29825892e-02,  -8.02631265e-02,  -4.86207670e-02,\n",
              "         1.00125356e-02,   3.58448041e-02,   2.08849446e-02,\n",
              "        -5.60925052e-02,   6.08926077e-02,  -1.51738370e-01,\n",
              "        -3.00685722e-02,  -6.16133820e-02,   6.16777797e-02,\n",
              "         2.89170689e-02,  -2.69181196e-02,   6.85470558e-02,\n",
              "         5.13191962e-02,   5.81744279e-03,   6.35933547e-02,\n",
              "        -2.07664729e-01,   1.13642973e-01,   5.87778404e-02,\n",
              "         1.19490901e-01,  -1.79077337e-01,  -6.88864194e-02,\n",
              "         2.71183953e-02,   1.56759031e-01,  -7.29173143e-02,\n",
              "         3.15104482e-02,  -1.25126896e-01,   2.93821262e-02,\n",
              "         1.02880254e-02,   9.01930972e-02,  -1.06174182e-01,\n",
              "        -5.56132231e-02,  -1.37401346e-02,   3.11384230e-02,\n",
              "        -7.52866847e-02,  -1.95500683e-02,   5.27826849e-02,\n",
              "        -7.82173121e-02,  -3.39415342e-02,   8.93496660e-02,\n",
              "         7.58248781e-02,  -2.25430188e-02,   7.36837878e-02,\n",
              "         7.78205154e-02,  -3.49741771e-02,  -2.44371164e-02,\n",
              "        -1.39728199e-01,  -1.23215973e-01,   4.18311507e-02,\n",
              "         3.12028375e-03,   3.18723671e-02,   1.22033151e-02,\n",
              "         2.76960016e-02,  -2.13532393e-02,  -8.30195602e-03,\n",
              "         6.27697099e-02,   1.35252489e-01,   9.87269730e-02,\n",
              "        -1.72842673e-03,   4.95357900e-02,  -8.51721346e-02,\n",
              "        -9.53775268e-02,  -1.21722294e-01,  -3.39286891e-02,\n",
              "        -4.56125990e-02,   1.46269212e-02,  -9.90120962e-02,\n",
              "        -1.36115723e-02,  -4.33240272e-04,   6.23425466e-04,\n",
              "        -3.48316343e-03,   1.07748959e-01,  -4.09291942e-02,\n",
              "         7.33701307e-03,   1.11753315e-01,  -3.93028434e-02,\n",
              "        -5.13410856e-02,  -4.36117287e-02,  -7.17814455e-02,\n",
              "        -4.64037274e-02,   2.76112489e-02,   3.74504630e-02,\n",
              "        -9.40242064e-03,  -2.91204348e-02,  -9.43472388e-03,\n",
              "        -5.81078256e-02,   5.68194535e-02,   8.18872758e-02,\n",
              "         7.98540612e-02,   7.41997482e-02,  -3.69683131e-02,\n",
              "         1.78934676e-02,  -4.90941014e-02,  -1.19115398e-01,\n",
              "        -3.24542533e-02,  -3.88042815e-02,  -4.08259167e-02,\n",
              "        -8.25539770e-02,  -3.48577075e-02,  -1.10903946e-02,\n",
              "        -1.15256788e-02,   1.71233689e-02,   9.86709210e-02,\n",
              "         1.15205461e-01,   3.67261811e-02,  -3.64399159e-02,\n",
              "         7.50445779e-02,  -1.10822286e-02,  -6.05442522e-02,\n",
              "         1.85724749e-02,  -1.15012186e-01,   7.45738737e-02,\n",
              "        -1.02630182e-01,   2.18071561e-04,  -3.90616760e-02,\n",
              "        -6.36002297e-03,  -2.54108853e-02,   7.92559074e-02,\n",
              "         4.33545130e-02,  -2.96076147e-02,  -3.39146581e-02,\n",
              "        -3.41118471e-02,  -2.02109015e-02,  -5.79634259e-02,\n",
              "         2.98163285e-02,   8.36298728e-02,   2.19680766e-02,\n",
              "         1.06636360e-01,  -2.48574444e-02,   1.60334149e-02,\n",
              "         3.37640060e-02,   3.65506354e-02,  -4.10920399e-02,\n",
              "         1.04701419e-01,   7.80324712e-02,   8.73544895e-02,\n",
              "         1.78883316e-02,  -7.86683275e-03,   8.79991709e-02,\n",
              "        -4.78789375e-02,   1.52684693e-01,   1.26640426e-01,\n",
              "         8.62234325e-02,   7.39206105e-02,   4.37223518e-02,\n",
              "         4.44866591e-02,   7.40842496e-02,  -1.47835908e-01,\n",
              "         1.04998413e-01,  -1.33141762e-02,  -1.86027803e-02,\n",
              "         2.55450474e-02,   1.76701795e-02,   1.37202297e-01,\n",
              "        -1.14185134e-01,   7.91086119e-03,  -4.48579285e-02,\n",
              "        -2.51335084e-02,  -1.19034845e-01,   1.23189708e-01,\n",
              "        -1.89179431e-02,   6.66735628e-02,   5.42357549e-02,\n",
              "        -3.87463069e-02,  -5.80853798e-02,   1.02898513e-01,\n",
              "         1.32756695e-01,  -3.08788850e-02,  -6.64964144e-02,\n",
              "         5.38848678e-02,  -1.98924012e-02,   2.69024899e-02,\n",
              "        -7.80483938e-02,   8.75555929e-03,  -6.42774971e-02,\n",
              "         1.00619077e-01,   8.56480677e-02,   8.49245622e-02,\n",
              "         8.13762081e-02,   6.22396601e-03,   1.18973730e-01,\n",
              "        -1.57217083e-03,   1.89068508e-02,   1.03823762e-03,\n",
              "        -2.22256555e-02,   2.37171680e-03,   1.01199235e-01,\n",
              "        -9.48930079e-02,  -1.01478537e-01,  -3.25696512e-02,\n",
              "         3.77823217e-03,  -2.69157894e-02,   1.19204764e-01,\n",
              "        -9.46704796e-02,   2.93984292e-04,   1.12930522e-02,\n",
              "         3.36370593e-02,   3.90927637e-02,  -1.32041025e-01,\n",
              "         6.26446990e-03,   5.02163619e-02,  -6.87748528e-03,\n",
              "        -3.85466232e-02,   3.60778248e-02,  -8.44322216e-02,\n",
              "         9.06628548e-02,   1.81505692e-02,  -2.29057001e-02,\n",
              "         1.29740530e-01,   6.80622376e-02,   3.49270759e-02,\n",
              "        -6.34568605e-02,  -1.07230547e-01,  -8.55178028e-02,\n",
              "        -7.33328453e-02,  -2.81609372e-02,  -1.07463279e-01,\n",
              "         1.15978086e-01,   4.74036736e-02,   3.37015851e-02,\n",
              "        -9.59720478e-02,  -1.45108848e-01,  -5.58529148e-02,\n",
              "        -9.58936805e-02,  -5.03775632e-02,  -4.72718191e-02,\n",
              "        -2.46125048e-02,  -3.67715208e-02,   4.80513601e-03,\n",
              "        -4.23743811e-02,   7.33445461e-02,  -5.73266751e-02,\n",
              "         1.18706694e-01,  -1.43702670e-01,   1.01043746e-01,\n",
              "         6.39797392e-02,   1.94299282e-01,  -1.56174069e-01,\n",
              "        -8.20334780e-02,   6.72920310e-02,   2.85842828e-02,\n",
              "         4.51269702e-02,   5.88039218e-02,  -2.68277772e-02,\n",
              "         9.34323376e-03,   1.07388268e-01,   3.31191396e-02,\n",
              "         1.21837956e-02,   7.62666904e-03,  -8.72555295e-02,\n",
              "         3.30868483e-02,  -3.82538805e-02,   2.87059360e-02,\n",
              "         8.48952817e-02,   1.87682776e-01,   1.33140613e-02,\n",
              "         1.68986930e-02,  -1.30980928e-01,  -5.43333226e-02,\n",
              "         1.08014127e-02,   7.05520240e-02,  -2.06920418e-01,\n",
              "        -4.80846043e-02,   9.44244539e-02,   1.08085370e-01,\n",
              "         4.61478121e-02,  -4.40336512e-02,  -1.20956380e-01,\n",
              "        -4.09346767e-02,   1.07600044e-01,   6.79136907e-02,\n",
              "         1.89759155e-02,  -3.73584497e-02,  -3.26487474e-02,\n",
              "         9.64335256e-04,  -1.93550519e-02,   1.10180552e-01,\n",
              "        -5.49008989e-02,   6.68082186e-02,   1.65567936e-02,\n",
              "         2.28538193e-02,  -2.97413620e-02,   3.17180434e-02,\n",
              "         1.82724911e-02,  -2.46060410e-02,   1.32448583e-01,\n",
              "         2.98115937e-02,   4.10717374e-02,   5.88288295e-02,\n",
              "         1.73316084e-02,  -5.64186376e-03,   4.44755601e-02,\n",
              "        -1.24488793e-01,  -8.93960245e-02,  -1.34289373e-01,\n",
              "         5.74219381e-02,   1.16028004e-01,  -2.44071863e-02,\n",
              "         5.13069931e-03,   4.06485726e-02,   2.28413224e-02,\n",
              "         4.11695143e-02,  -6.27927986e-02,   2.69774466e-02,\n",
              "        -3.90324087e-02,   1.10566476e-01,  -2.35769299e-02,\n",
              "         1.62547037e-01,  -4.78075963e-02,  -6.59672381e-02,\n",
              "         3.60134909e-03,  -4.09400776e-02,   1.33496715e-02,\n",
              "         1.38991404e-01,   1.19634991e-01,   8.41321155e-02,\n",
              "         3.18225311e-02,   1.22806515e-01,   8.65168665e-02,\n",
              "        -6.01144203e-02,   1.15352888e-02,   3.85696923e-02,\n",
              "         1.13596970e-01,  -2.51314742e-02,   5.03809872e-02,\n",
              "         3.82336109e-02,  -2.71342228e-02,  -6.91567253e-03,\n",
              "        -2.71503977e-02,  -8.38560367e-02,   5.77408727e-02,\n",
              "         3.77817002e-02,   2.10767331e-02,   1.31518258e-01,\n",
              "        -8.99990859e-02,   1.63775813e-02,  -9.70504364e-02,\n",
              "         3.85352830e-02,  -6.07811025e-02,   3.17473281e-02,\n",
              "        -4.86610545e-03,   1.22360140e-01,   4.07965160e-02,\n",
              "         9.69405096e-02,   5.48359005e-02,  -1.88358749e-02,\n",
              "         6.50860720e-02,  -7.86796645e-02,   3.89944867e-02,\n",
              "         1.79050756e-02,   7.41916252e-02,   1.23009079e-01,\n",
              "        -9.12806268e-02,  -2.27230428e-02,  -1.10070000e-01,\n",
              "         7.84271047e-02,  -7.00133938e-02,  -2.01081690e-02,\n",
              "        -5.32638237e-02,   4.88779651e-02,  -7.11673161e-02,\n",
              "        -8.43139192e-02,   7.31159914e-02,   1.84142971e-02,\n",
              "         2.10451442e-02,  -2.88034935e-02,   1.13490099e-02,\n",
              "         1.85657608e-02,  -2.06398852e-04,   1.02202169e-01,\n",
              "         2.35812346e-02,  -1.27147990e-01,   1.18477868e-01,\n",
              "         1.19936510e-01,   1.36091134e-01,   8.22298397e-02,\n",
              "         1.15000729e-03,  -4.30248320e-02,  -3.26120784e-02,\n",
              "        -8.48060556e-02,   3.21216079e-02,   1.46282413e-02,\n",
              "         8.20692603e-02,   1.38377593e-01,   1.32850505e-02,\n",
              "        -6.86079874e-02,   4.83187459e-04,   7.63868137e-02,\n",
              "        -9.80227971e-02,   3.36898959e-02,   1.06842662e-01,\n",
              "        -1.32814678e-01,   9.27046991e-04,   9.02115999e-02,\n",
              "         5.81249799e-02,  -6.78448944e-02,  -4.87237521e-02,\n",
              "         6.34190647e-02,   2.30782656e-02,   7.50975455e-02,\n",
              "        -1.10065057e-01,   6.28177551e-02,  -1.27538729e-01,\n",
              "        -3.92816259e-02,  -5.52052294e-03,  -4.60818905e-02,\n",
              "         1.56420909e-01,   1.96270419e-01,   1.15682344e-01,\n",
              "         3.67862344e-02,   1.06490136e-01,   9.89329980e-03,\n",
              "        -8.20917170e-02,   4.51015869e-02,   9.91160620e-02,\n",
              "         2.34935937e-02,  -9.18166452e-02,   1.69266134e-01,\n",
              "        -8.10304225e-02,   7.94064008e-02,  -1.11081598e-01,\n",
              "         2.11690470e-02,   4.67483573e-02,  -5.99744667e-02,\n",
              "        -4.81485856e-02,  -3.30035218e-02,   4.04651665e-03,\n",
              "        -7.86257248e-02,   4.69572307e-02,  -1.57821523e-01,\n",
              "         3.07280892e-02,   4.46583417e-02,  -2.75364813e-02,\n",
              "        -8.36189558e-02,   1.53174493e-01,   1.01463415e-01,\n",
              "         1.03500744e-01,  -1.04378891e-01,   1.11576713e-01,\n",
              "         1.62991366e-02,  -5.23396726e-02,   9.59475034e-02,\n",
              "         4.98696245e-02,   6.65414377e-03,  -5.67939047e-02,\n",
              "         9.35021762e-02,   2.71701401e-02,   1.50273749e-02,\n",
              "        -2.60184445e-02,  -6.54204686e-02,  -4.21740837e-02,\n",
              "         7.36527398e-02,   1.78769575e-01,  -4.51577000e-02,\n",
              "        -9.16085587e-02,  -3.79758193e-02,   1.41753680e-01,\n",
              "         4.02556972e-02,  -9.20423591e-02,   3.28918383e-02,\n",
              "        -1.34893476e-02,  -1.03494526e-01,   3.84166306e-02,\n",
              "        -6.77897552e-02,   5.99696680e-02,  -9.04933510e-02,\n",
              "         3.58974367e-02,  -5.04796132e-02,   6.46158796e-02,\n",
              "         2.47524713e-02,  -5.42624484e-02,  -2.31249825e-02,\n",
              "        -3.33035680e-02,   8.53539605e-02,  -9.24228281e-02,\n",
              "         5.85601369e-03,  -1.93228594e-02,  -6.49101147e-02,\n",
              "         4.65507409e-02,  -1.41902173e-02,   4.15464593e-02,\n",
              "         2.56210845e-03,   3.03444835e-02,   1.23465893e-01,\n",
              "         3.72095385e-02,   4.57908119e-02,   2.94252601e-02,\n",
              "         1.52967463e-01,   6.57427355e-02,  -4.18091951e-02,\n",
              "         3.95327131e-02,   2.82059312e-02,   3.33644084e-02,\n",
              "         5.35217281e-02])"
            ]
          },
          "metadata": {},
          "execution_count": 22
        }
      ]
    },
    {
      "cell_type": "code",
      "source": [
        "# look at the distribution\n",
        "#remember observed_difference is numerical you have to change it into a string\n",
        "print(\"Observed Difference:\"+ str(observed_difference))\n",
        "Table().with_column(\"Difference in Means\",difference).hist()"
      ],
      "metadata": {
        "colab": {
          "base_uri": "https://localhost:8080/",
          "height": 427
        },
        "id": "8IMbxEMFpJaH",
        "outputId": "ba0a7afd-d8c2-4c86-91f7-8bb84a63b53f"
      },
      "execution_count": 23,
      "outputs": [
        {
          "output_type": "stream",
          "name": "stdout",
          "text": [
            "Observed Difference:-0.09415501558934913\n"
          ]
        },
        {
          "output_type": "display_data",
          "data": {
            "text/plain": [
              "<Figure size 600x400 with 1 Axes>"
            ],
            "image/png": "[encoded data removed]"
          },
          "metadata": {}
        }
      ]
    },
    {
      "cell_type": "code",
      "source": [
        "#(start,stop,increment at)\n",
        "test_bins=np.arange(-0.3,0.3,0.05)\n",
        "test_bins\n",
        "\n",
        "# look at the distribution\n",
        "#remember observed_difference is numerical you have to change it into a string\n",
        "print(\"Observed Difference:\"+ str(observed_difference))\n",
        "Table().with_column(\"Difference in Means\",difference).hist(bins=test_bins)\n",
        "plots.scatter(observed_difference,0,color=\"red\",s=40)"
      ],
      "metadata": {
        "colab": {
          "base_uri": "https://localhost:8080/",
          "height": 445
        },
        "id": "wfSpU22ApTgI",
        "outputId": "b4d55633-0371-4b12-9a8f-ecd25479c876"
      },
      "execution_count": 24,
      "outputs": [
        {
          "output_type": "stream",
          "name": "stdout",
          "text": [
            "Observed Difference:-0.09415501558934913\n"
          ]
        },
        {
          "output_type": "execute_result",
          "data": {
            "text/plain": [
              "<matplotlib.collections.PathCollection at 0x7ec26874e620>"
            ]
          },
          "metadata": {},
          "execution_count": 24
        },
        {
          "output_type": "display_data",
          "data": {
            "text/plain": [
              "<Figure size 600x400 with 1 Axes>"
            ],
            "image/png": "[encoded data removed]"
          },
          "metadata": {}
        }
      ]
    },
    {
      "cell_type": "code",
      "source": [
        "difference>=observed_difference"
      ],
      "metadata": {
        "colab": {
          "base_uri": "https://localhost:8080/"
        },
        "id": "JniVxPKrpqlA",
        "outputId": "e41fd0b0-92cc-443f-eec7-4f5789ff3593"
      },
      "execution_count": 25,
      "outputs": [
        {
          "output_type": "execute_result",
          "data": {
            "text/plain": [
              "array([False, False,  True,  True,  True,  True,  True, False,  True,\n",
              "        True,  True,  True,  True,  True,  True,  True,  True,  True,\n",
              "        True,  True,  True,  True,  True,  True,  True,  True,  True,\n",
              "        True,  True,  True,  True,  True, False,  True,  True,  True,\n",
              "       False,  True,  True,  True,  True,  True,  True,  True,  True,\n",
              "       False,  True,  True,  True,  True,  True,  True,  True,  True,\n",
              "        True,  True,  True,  True,  True,  True,  True,  True,  True,\n",
              "        True,  True,  True,  True,  True,  True,  True,  True, False,\n",
              "        True,  True,  True,  True,  True,  True,  True,  True,  True,\n",
              "        True,  True,  True,  True,  True,  True,  True,  True,  True,\n",
              "        True,  True,  True,  True,  True, False,  True, False, False,\n",
              "        True,  True,  True, False,  True,  True,  True,  True,  True,\n",
              "        True,  True,  True, False,  True,  True,  True,  True,  True,\n",
              "        True,  True,  True,  True,  True,  True, False,  True,  True,\n",
              "        True,  True,  True,  True,  True,  True,  True,  True,  True,\n",
              "       False,  True,  True,  True,  True,  True, False,  True,  True,\n",
              "        True,  True,  True,  True,  True, False,  True,  True,  True,\n",
              "        True,  True,  True,  True,  True,  True,  True,  True, False,\n",
              "        True,  True,  True,  True,  True,  True,  True,  True,  True,\n",
              "        True,  True, False,  True, False, False,  True,  True,  True,\n",
              "        True,  True,  True,  True,  True,  True,  True,  True,  True,\n",
              "       False,  True,  True,  True,  True,  True,  True,  True,  True,\n",
              "       False,  True,  True,  True,  True,  True, False,  True,  True,\n",
              "        True,  True,  True,  True,  True,  True,  True,  True,  True,\n",
              "        True,  True,  True,  True,  True,  True,  True, False,  True,\n",
              "        True,  True,  True,  True,  True,  True,  True,  True,  True,\n",
              "        True,  True,  True,  True,  True,  True,  True,  True,  True,\n",
              "        True,  True,  True,  True,  True,  True,  True,  True,  True,\n",
              "        True, False,  True,  True,  True,  True,  True, False,  True,\n",
              "        True,  True,  True,  True,  True,  True,  True,  True,  True,\n",
              "        True, False,  True,  True,  True, False,  True, False,  True,\n",
              "        True, False,  True,  True,  True,  True,  True,  True,  True,\n",
              "       False,  True,  True,  True,  True, False,  True,  True,  True,\n",
              "        True,  True,  True,  True,  True,  True,  True,  True,  True,\n",
              "        True,  True,  True,  True,  True, False,  True,  True,  True,\n",
              "        True,  True,  True,  True,  True,  True,  True, False,  True,\n",
              "        True, False,  True, False,  True,  True,  True,  True,  True,\n",
              "        True,  True,  True,  True,  True,  True,  True,  True,  True,\n",
              "        True,  True,  True,  True,  True,  True,  True,  True,  True,\n",
              "       False,  True,  True,  True,  True,  True,  True, False,  True,\n",
              "        True,  True,  True,  True,  True,  True,  True,  True,  True,\n",
              "        True,  True,  True,  True,  True,  True,  True,  True,  True,\n",
              "        True,  True,  True,  True,  True,  True,  True,  True,  True,\n",
              "        True,  True,  True,  True,  True,  True,  True,  True,  True,\n",
              "        True, False,  True,  True,  True,  True,  True,  True,  True,\n",
              "        True, False,  True,  True,  True,  True,  True,  True,  True,\n",
              "        True,  True,  True,  True,  True,  True,  True, False,  True,\n",
              "       False,  True,  True,  True,  True,  True,  True,  True,  True,\n",
              "        True,  True,  True,  True,  True,  True,  True,  True,  True,\n",
              "        True,  True, False,  True,  True,  True,  True,  True,  True,\n",
              "        True,  True,  True,  True,  True, False,  True,  True,  True,\n",
              "        True, False,  True,  True,  True,  True,  True,  True,  True,\n",
              "        True, False,  True,  True,  True,  True,  True,  True,  True,\n",
              "        True,  True,  True,  True,  True, False,  True,  True,  True,\n",
              "        True,  True,  True,  True,  True,  True,  True,  True,  True,\n",
              "        True,  True,  True,  True, False, False,  True,  True,  True,\n",
              "        True,  True,  True,  True,  True,  True,  True,  True, False,\n",
              "        True,  True,  True,  True,  True,  True,  True,  True,  True,\n",
              "       False,  True,  True,  True, False,  True,  True,  True,  True,\n",
              "        True, False,  True,  True,  True, False,  True,  True,  True,\n",
              "        True,  True,  True,  True,  True,  True,  True,  True,  True,\n",
              "        True,  True,  True, False, False,  True,  True,  True,  True,\n",
              "        True,  True,  True,  True,  True,  True,  True,  True,  True,\n",
              "       False, False,  True,  True,  True, False,  True,  True,  True,\n",
              "        True,  True,  True,  True,  True,  True,  True,  True,  True,\n",
              "        True,  True,  True,  True,  True,  True,  True,  True,  True,\n",
              "        True,  True,  True,  True,  True, False,  True,  True,  True,\n",
              "        True,  True,  True,  True,  True,  True,  True,  True,  True,\n",
              "        True,  True,  True,  True, False,  True, False,  True,  True,\n",
              "        True,  True,  True,  True,  True,  True,  True,  True,  True,\n",
              "        True,  True,  True,  True,  True,  True,  True,  True,  True,\n",
              "        True,  True,  True,  True,  True,  True,  True,  True,  True,\n",
              "        True,  True,  True,  True,  True, False,  True,  True,  True,\n",
              "        True,  True,  True, False,  True,  True,  True, False,  True,\n",
              "        True,  True,  True,  True,  True,  True,  True,  True,  True,\n",
              "        True,  True,  True,  True,  True,  True,  True,  True,  True,\n",
              "        True,  True,  True,  True,  True,  True,  True,  True,  True,\n",
              "       False, False,  True,  True,  True,  True, False,  True,  True,\n",
              "        True,  True, False,  True,  True,  True,  True,  True,  True,\n",
              "        True,  True,  True,  True,  True,  True,  True, False,  True,\n",
              "        True,  True, False,  True,  True,  True, False, False,  True,\n",
              "       False,  True,  True,  True,  True,  True,  True,  True,  True,\n",
              "        True, False,  True,  True,  True, False,  True,  True,  True,\n",
              "        True,  True,  True,  True,  True,  True,  True,  True,  True,\n",
              "        True,  True,  True,  True,  True,  True,  True, False,  True,\n",
              "        True,  True, False,  True,  True,  True,  True,  True, False,\n",
              "        True,  True,  True,  True,  True,  True,  True,  True,  True,\n",
              "        True,  True,  True,  True,  True,  True,  True,  True,  True,\n",
              "        True,  True,  True,  True,  True,  True, False,  True, False,\n",
              "        True,  True,  True,  True,  True,  True,  True,  True,  True,\n",
              "        True,  True,  True,  True,  True,  True,  True,  True,  True,\n",
              "        True,  True,  True,  True,  True,  True,  True,  True,  True,\n",
              "        True,  True,  True,  True,  True,  True,  True,  True,  True,\n",
              "        True,  True,  True,  True,  True, False,  True,  True,  True,\n",
              "        True,  True,  True,  True,  True,  True,  True,  True,  True,\n",
              "        True,  True,  True,  True,  True, False,  True,  True,  True,\n",
              "        True,  True,  True,  True,  True,  True,  True,  True,  True,\n",
              "        True,  True,  True,  True, False,  True,  True,  True,  True,\n",
              "        True,  True,  True,  True,  True,  True,  True,  True,  True,\n",
              "        True,  True,  True, False,  True,  True, False,  True,  True,\n",
              "        True,  True,  True,  True,  True,  True, False,  True, False,\n",
              "        True,  True,  True,  True,  True,  True,  True,  True,  True,\n",
              "        True,  True,  True,  True,  True,  True,  True,  True, False,\n",
              "        True,  True,  True,  True,  True,  True,  True,  True, False,\n",
              "        True,  True,  True,  True,  True,  True,  True, False,  True,\n",
              "        True,  True,  True,  True,  True,  True,  True,  True,  True,\n",
              "        True,  True,  True,  True,  True,  True,  True,  True,  True,\n",
              "        True,  True,  True,  True, False,  True,  True,  True,  True,\n",
              "        True,  True,  True,  True,  True,  True,  True,  True,  True,\n",
              "        True,  True,  True,  True,  True,  True,  True,  True,  True,\n",
              "        True,  True,  True,  True,  True,  True,  True,  True,  True,  True], dtype=bool)"
            ]
          },
          "metadata": {},
          "execution_count": 25
        }
      ]
    },
    {
      "cell_type": "code",
      "source": [
        "sum(difference>=observed_difference)"
      ],
      "metadata": {
        "colab": {
          "base_uri": "https://localhost:8080/"
        },
        "id": "hn6mBtKZpuBg",
        "outputId": "994e9789-b421-431f-c4f4-e4c3b1a986de"
      },
      "execution_count": 26,
      "outputs": [
        {
          "output_type": "execute_result",
          "data": {
            "text/plain": [
              "908"
            ]
          },
          "metadata": {},
          "execution_count": 26
        }
      ]
    },
    {
      "cell_type": "code",
      "source": [
        "#This will give us the percentage\n",
        "\n",
        "#Remember we working with a 95% confidence interval\n",
        "100*sum(difference>=observed_difference)/1000"
      ],
      "metadata": {
        "colab": {
          "base_uri": "https://localhost:8080/"
        },
        "id": "K86XKU0fp05Q",
        "outputId": "253dda1c-d18e-4194-8048-a608aab0182c"
      },
      "execution_count": 27,
      "outputs": [
        {
          "output_type": "execute_result",
          "data": {
            "text/plain": [
              "90.799999999999997"
            ]
          },
          "metadata": {},
          "execution_count": 27
        }
      ]
    },
    {
      "cell_type": "markdown",
      "source": [
        "c) Discuss your conclusion(s) on your tested hypothesis. (3 marks)\n",
        "\n",
        "\n"
      ],
      "metadata": {
        "id": "N8zAN45fkZHH"
      }
    },
    {
      "cell_type": "markdown",
      "source": [],
      "metadata": {
        "id": "eVkKeb_RuKmk"
      }
    },
    {
      "cell_type": "code",
      "source": [
        "#Answer in textbox below.\n",
        "\n",
        "#We fail to reject the null hypothesis. Since the confidence interval is 95% and the percentage we obtained is 90.80%, there is no significant difference between the farming methods (precision and traditional).\n",
        "#Hence any difference found between the two methods is purely due to chance."
      ],
      "metadata": {
        "id": "7_eISewnkZc_"
      },
      "execution_count": null,
      "outputs": []
    },
    {
      "cell_type": "markdown",
      "source": [
        "We fail to reject the null hypothesis. Since the confidence interval is 95% and the percentage we obtained is 90.80%, there is no significant difference between the farming methods (precision and traditional). Hence any difference found between the two methods is purely due to chance."
      ],
      "metadata": {
        "id": "vYN1rs0ojUqm"
      }
    },
    {
      "cell_type": "markdown",
      "source": [
        "## **Question 2**:\n",
        "\n",
        "(22 marks in total)\n",
        "\n",
        "\n"
      ],
      "metadata": {
        "id": "84URjBWakwfJ"
      }
    },
    {
      "cell_type": "markdown",
      "source": [
        "You want to generate test data to practice specific A\\B testing (such as the table below just with more instances). The group ID's are either 'A' or 'B' and the outcomes are either '+' or '-'.\n"
      ],
      "metadata": {
        "id": "pjK94rQSpBZb"
      }
    },
    {
      "cell_type": "markdown",
      "source": [
        "![table.PNG](data:image/png;base64,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)"
      ],
      "metadata": {
        "id": "sbjiAXJj-1KX"
      }
    },
    {
      "cell_type": "markdown",
      "source": [
        "(You can make use of the following code cell to test your functions)"
      ],
      "metadata": {
        "id": "2tj1Q4XrCXu0"
      }
    },
    {
      "cell_type": "code",
      "source": [
        "# exxample input\n",
        "A_out1_prop = 0.5     # proportion of outcome 1 ('+') in group A\n",
        "B_out1_prop = 0.7     # proportion of outcome 1 ('+') in group B\n",
        "group_size = 750      # number of instances per group\n",
        "outcome_ops = make_array('+','-') # array with the two possible outcomes\n",
        "groups = make_array('A','B')      # array with the two possible group IDs"
      ],
      "metadata": {
        "id": "hGI7ZyX3AoYI"
      },
      "execution_count": 28,
      "outputs": []
    },
    {
      "cell_type": "markdown",
      "source": [
        "To generate a data set (table above) write the following code:"
      ],
      "metadata": {
        "id": "GYenI9Ch9zxS"
      }
    },
    {
      "cell_type": "markdown",
      "source": [
        "a) Create a function called group_data. This function must take three inputs:\n",
        "\n",
        "* the number of instances belonging to each group, *group_size* in the code above (assume the two groups have an equal number of instances).\n",
        "\n",
        "* the proportion of your first outcome (for example the proportion of chickens that are infected). *A_out1_prop* **or** *B_out1_prop* in the code above.\n",
        "\n",
        "* an array of your two outcomes (for example and array with the elements ‘+’ and ‘-’, for infected and non-infected respectively. *outcome_ops* in the code above.\n",
        "\n",
        "The function must then:\n",
        "\n",
        " * generate an array (called *out_props*) with both proportion (that of the first outcome and that of the second outcome).\n",
        "\n",
        "* make use of the function sample_proportions to sample form this array of proportion the same number of times as the umber of instances in the group. Store these proportions in a new array called *new_props*.\n",
        "\n",
        "* generate an empty array (called *group_outcomes*) to store the outcome values for the group.\n",
        "\n",
        "* make use of iteration to add outcome 1 (for example ‘+’) to the *group_outcomes* array, X number of times, where X = group size multiplied by the proportion of outcome 1. HINT, make use of the total number of instances in a group, the array of new proportions generated above (*new_props*) as well as the array of outcomes (given as input for the function).\n",
        "\n",
        "* make use of iteration to add outcome 2 (for example ‘-’) to the *group_outcomes* array X number of times, where X = group size multiplied by the proportion of outcome 1. HINT, make use of the the total number of instances in a group, the array of new proportions generated above (*new_props*) as well as the array of outcomes (given as input for the function).\n",
        "\n",
        "* randomly shuffle the *group_outcomes* array, and finally.\n",
        "\n",
        "* return the shuffled *group_outcomes* array.\n",
        "\n",
        "(10 marks)"
      ],
      "metadata": {
        "id": "9YDXSuPLwjPi"
      }
    },
    {
      "cell_type": "code",
      "source": [
        "def group_data(group_size, out1_prop,outcome_ops):\n",
        "  out_props=np.array([out1_prop,1-out1_prop])   #array with proportion of each outcome made\n",
        "  new_props=sample_proportions(group_size,out_props)    #sample_proportions will generate new proportions\n",
        "  group_outcomes=np.array([])   #empty array to store outcomes\n",
        "  for i in np.arange(group_size*out1_prop):\n",
        "    group_outcomes=np.append(group_outcomes,'+')\n",
        "  for i in np.arange(group_size*(1-out1_prop)):\n",
        "    group_outcomes=np.append(group_outcomes,'-')\n",
        "  table=Table().with_column(\"Outcomes\",group_outcomes)\n",
        "  group_outcomes=table.sample(with_replacement=False).column(\"Outcomes\")\n",
        "  #np.random.shuffle(group_outcomes)  #randomly shuffling the array\n",
        "  return group_outcomes   #returns the group_outcomes array\n"
      ],
      "metadata": {
        "id": "EZxbAoNlC3Xv"
      },
      "execution_count": 101,
      "outputs": []
    },
    {
      "cell_type": "code",
      "source": [
        "#testing if the function works\n",
        "group_data(group_size, B_out1_prop, outcome_ops)"
      ],
      "metadata": {
        "colab": {
          "base_uri": "https://localhost:8080/"
        },
        "id": "jer2md-TbuKM",
        "outputId": "39387d61-6127-4d45-b4a6-a23b0b0ee236"
      },
      "execution_count": 102,
      "outputs": [
        {
          "output_type": "execute_result",
          "data": {
            "text/plain": [
              "array(['+', '+', '+', '+', '+', '+', '-', '+', '-', '-', '+', '+', '-',\n",
              "       '-', '+', '-', '+', '+', '+', '+', '-', '+', '+', '+', '+', '+',\n",
              "       '+', '+', '+', '-', '-', '-', '-', '-', '+', '-', '+', '+', '-',\n",
              "       '+', '-', '-', '-', '+', '+', '-', '+', '+', '+', '+', '-', '-',\n",
              "       '+', '-', '+', '+', '+', '+', '+', '-', '+', '-', '+', '-', '-',\n",
              "       '+', '-', '+', '+', '-', '-', '-', '-', '+', '+', '+', '-', '+',\n",
              "       '+', '+', '+', '+', '-', '-', '-', '+', '+', '-', '+', '-', '+',\n",
              "       '+', '-', '-', '-', '-', '-', '+', '+', '+', '-', '+', '-', '+',\n",
              "       '+', '-', '+', '-', '+', '-', '-', '+', '+', '-', '+', '+', '+',\n",
              "       '+', '+', '+', '+', '-', '+', '+', '-', '+', '-', '+', '-', '+',\n",
              "       '+', '-', '+', '-', '+', '+', '+', '+', '+', '+', '-', '+', '-',\n",
              "       '+', '-', '-', '+', '-', '+', '+', '+', '+', '+', '-', '+', '-',\n",
              "       '-', '+', '-', '+', '+', '+', '-', '-', '+', '+', '+', '+', '+',\n",
              "       '+', '+', '+', '+', '+', '+', '-', '-', '+', '+', '+', '+', '-',\n",
              "       '+', '+', '-', '-', '-', '-', '+', '-', '-', '+', '-', '+', '-',\n",
              "       '-', '+', '+', '+', '-', '-', '-', '+', '+', '+', '+', '+', '-',\n",
              "       '+', '+', '-', '+', '+', '-', '+', '+', '+', '-', '-', '+', '-',\n",
              "       '-', '+', '+', '-', '+', '+', '+', '+', '+', '+', '+', '-', '+',\n",
              "       '-', '+', '+', '+', '+', '+', '+', '+', '+', '+', '+', '+', '+',\n",
              "       '+', '+', '+', '+', '+', '+', '+', '+', '+', '-', '-', '+', '-',\n",
              "       '+', '+', '-', '+', '+', '+', '-', '+', '+', '+', '-', '-', '+',\n",
              "       '+', '+', '+', '+', '+', '+', '+', '-', '+', '-', '-', '+', '+',\n",
              "       '+', '+', '+', '+', '+', '+', '+', '+', '+', '+', '+', '+', '+',\n",
              "       '-', '+', '+', '+', '+', '-', '+', '+', '+', '+', '+', '+', '-',\n",
              "       '-', '+', '+', '-', '-', '+', '+', '+', '+', '+', '+', '+', '+',\n",
              "       '+', '+', '+', '+', '-', '-', '-', '+', '-', '+', '+', '+', '+',\n",
              "       '+', '+', '+', '+', '+', '+', '-', '+', '+', '+', '+', '+', '+',\n",
              "       '+', '-', '+', '+', '+', '-', '+', '+', '+', '+', '+', '+', '+',\n",
              "       '-', '+', '-', '-', '+', '+', '+', '-', '-', '+', '+', '+', '+',\n",
              "       '+', '+', '-', '-', '+', '+', '+', '+', '-', '-', '-', '+', '+',\n",
              "       '+', '+', '+', '+', '-', '-', '-', '-', '+', '+', '-', '+', '+',\n",
              "       '+', '+', '+', '-', '+', '+', '+', '+', '+', '+', '+', '+', '-',\n",
              "       '+', '+', '+', '+', '+', '-', '+', '-', '+', '+', '+', '+', '+',\n",
              "       '-', '-', '-', '+', '+', '+', '-', '-', '-', '-', '+', '+', '-',\n",
              "       '-', '-', '-', '+', '+', '-', '-', '-', '+', '-', '-', '+', '+',\n",
              "       '+', '-', '+', '-', '-', '+', '+', '+', '+', '+', '+', '+', '-',\n",
              "       '+', '+', '+', '-', '-', '+', '-', '+', '+', '-', '+', '+', '+',\n",
              "       '-', '+', '+', '+', '+', '-', '-', '+', '+', '+', '+', '+', '+',\n",
              "       '+', '+', '-', '-', '+', '-', '+', '+', '+', '+', '+', '+', '-',\n",
              "       '-', '+', '+', '+', '+', '-', '+', '+', '+', '+', '+', '+', '-',\n",
              "       '-', '-', '-', '+', '+', '+', '+', '+', '+', '+', '+', '+', '-',\n",
              "       '+', '+', '+', '+', '+', '+', '+', '+', '-', '+', '-', '+', '+',\n",
              "       '+', '+', '+', '-', '+', '+', '+', '-', '+', '+', '+', '+', '-',\n",
              "       '+', '+', '+', '-', '-', '+', '-', '+', '+', '+', '+', '+', '+',\n",
              "       '-', '+', '+', '+', '+', '+', '-', '+', '+', '-', '+', '+', '+',\n",
              "       '+', '+', '+', '-', '+', '+', '-', '+', '+', '+', '-', '-', '+',\n",
              "       '+', '-', '+', '+', '+', '-', '-', '+', '+', '+', '+', '+', '+',\n",
              "       '+', '+', '+', '-', '+', '+', '-', '-', '+', '-', '-', '-', '-',\n",
              "       '-', '+', '+', '+', '+', '+', '+', '+', '+', '-', '+', '+', '+',\n",
              "       '+', '-', '+', '+', '-', '+', '+', '-', '+', '-', '+', '+', '-',\n",
              "       '+', '+', '+', '-', '+', '+', '+', '-', '-', '-', '+', '+', '+',\n",
              "       '+', '+', '+', '+', '+', '+', '+', '+', '+', '+', '+', '+', '-',\n",
              "       '-', '+', '+', '+', '-', '-', '+', '-', '+', '+', '+', '+', '+',\n",
              "       '+', '+', '+', '+', '+', '+', '+', '+', '+', '-', '+', '+', '-',\n",
              "       '-', '-', '-', '+', '-', '+', '+', '+', '+', '-', '+', '-', '+',\n",
              "       '-', '+', '-', '+', '-', '+', '+', '+', '+', '+', '+', '+', '-',\n",
              "       '+', '+', '+', '+', '+', '+', '+', '+', '+', '+', '+', '+', '+',\n",
              "       '+', '+', '+', '+', '+', '-', '+', '+', '-', '-'],\n",
              "      dtype='<U1')"
            ]
          },
          "metadata": {},
          "execution_count": 102
        }
      ]
    },
    {
      "cell_type": "markdown",
      "source": [
        "b) Create a second function called *make_data*. This function takes 5 inputs:\n",
        "\n",
        "* the number of instances belonging to each group (assume the two groups have an equal number of instances.\n",
        "\n",
        "* the proportion of outcome 1 that you want in group A.\n",
        "\n",
        "* the proportion of outcome 1 that you want in group B.\n",
        "\n",
        "* an array of your two groups id’s (for example and array with the elements ‘A’ and ‘B’).\n",
        "\n",
        "* an array of your two outcomes (for example and array with the elements ‘+’ and ‘-’).\n",
        "\n",
        "The function must then:\n",
        "\n",
        "* generate two arrays with the outcomes for two groups (for example group A and group B) respectively, using the function created in (a) above. Then append the second one to the first (for example append group B’s outcomes to that of group A).\n",
        "\n",
        "* generate two arrays with the group id for each group respectively. For example an array with x elements each with the value of ‘A’ and another array with x elements each with the value of ‘B’. Then append the second one to the first (for example append group B’s id’s to that of group A).\n",
        "\n",
        "* Finally, combine the arrays into a table, with the headings “Groups” and “Outcomes” with their respected values generated above, and return this table.\n",
        "\n",
        "(10 marks)"
      ],
      "metadata": {
        "id": "7yheeTSa2TC0"
      }
    },
    {
      "cell_type": "code",
      "source": [
        "#A function called make_data was created.\n",
        "\n",
        "#The inputs were those of the group size, the proportion outcome 1 for group A and for group B, group id array and outcome array\n",
        "def make_data(group_size, A_out1_prop, B_out1_prop, groups, outcome_ops):\n",
        "  group_A=group_data(group_size, A_out1_prop, outcome_ops)\n",
        "  group_B=group_data(group_size, B_out1_prop, outcome_ops)   #two arrays were made for the outcomes of the two groups\n",
        "  group_outcomes=np.append(group_A,group_B)\n",
        "  groups=([])  #empty array created.\n",
        "\n",
        "  for i in np.arange(len(group_A)):\n",
        "    groups=np.append(groups,'A')   #took the length of the groups.\n",
        "  for i in np.arange(len(group_B)):\n",
        "    groups=np.append(groups,'B')   #make sure to append.\n",
        "\n",
        "  table=Table().with_columns(\"Groups\",groups,\"Outcomes\",group_outcomes)\n",
        "  return table\n"
      ],
      "metadata": {
        "id": "gArTODgtAMvl"
      },
      "execution_count": 103,
      "outputs": []
    },
    {
      "cell_type": "markdown",
      "source": [
        "c) Test you functions by running following code: ( 1 mark)"
      ],
      "metadata": {
        "id": "emcW165v9asO"
      }
    },
    {
      "cell_type": "code",
      "source": [
        "A_out1_prop = 0.5     # proportion of outcome 1 ('+') in group A\n",
        "B_out1_prop = 0.7     # proportion of outcome 1 ('+') in group B\n",
        "group_size = 750      # number of instances per group\n",
        "outcome_ops = make_array('+','-') # array with the two possible outcomes\n",
        "groups = make_array('A','B')      # array with the two possible group IDs\n",
        "\n",
        "final_data = make_data(group_size, A_out1_prop, B_out1_prop, groups, outcome_ops)\n",
        "final_data"
      ],
      "metadata": {
        "id": "y-Km266fAUDU",
        "colab": {
          "base_uri": "https://localhost:8080/",
          "height": 392
        },
        "outputId": "1cf5aa8e-ace6-4597-fbcf-e837ea1decdf"
      },
      "execution_count": 104,
      "outputs": [
        {
          "output_type": "execute_result",
          "data": {
            "text/plain": [
              "Groups | Outcomes\n",
              "A      | +\n",
              "A      | +\n",
              "A      | -\n",
              "A      | -\n",
              "A      | -\n",
              "A      | -\n",
              "A      | +\n",
              "A      | -\n",
              "A      | +\n",
              "A      | +\n",
              "... (1491 rows omitted)"
            ],
            "text/html": [
              "<table border=\"1\" class=\"dataframe\">\n",
              "    <thead>\n",
              "        <tr>\n",
              "            <th>Groups</th> <th>Outcomes</th>\n",
              "        </tr>\n",
              "    </thead>\n",
              "    <tbody>\n",
              "        <tr>\n",
              "            <td>A     </td> <td>+       </td>\n",
              "        </tr>\n",
              "        <tr>\n",
              "            <td>A     </td> <td>+       </td>\n",
              "        </tr>\n",
              "        <tr>\n",
              "            <td>A     </td> <td>-       </td>\n",
              "        </tr>\n",
              "        <tr>\n",
              "            <td>A     </td> <td>-       </td>\n",
              "        </tr>\n",
              "        <tr>\n",
              "            <td>A     </td> <td>-       </td>\n",
              "        </tr>\n",
              "        <tr>\n",
              "            <td>A     </td> <td>-       </td>\n",
              "        </tr>\n",
              "        <tr>\n",
              "            <td>A     </td> <td>+       </td>\n",
              "        </tr>\n",
              "        <tr>\n",
              "            <td>A     </td> <td>-       </td>\n",
              "        </tr>\n",
              "        <tr>\n",
              "            <td>A     </td> <td>+       </td>\n",
              "        </tr>\n",
              "        <tr>\n",
              "            <td>A     </td> <td>+       </td>\n",
              "        </tr>\n",
              "    </tbody>\n",
              "</table>\n",
              "<p>... (1491 rows omitted)</p>"
            ]
          },
          "metadata": {},
          "execution_count": 104
        }
      ]
    },
    {
      "cell_type": "markdown",
      "source": [
        "d) Create a pivot table of you table generate in (c). ( 1 mark)"
      ],
      "metadata": {
        "id": "9dQe7_pD9lTg"
      }
    },
    {
      "cell_type": "markdown",
      "source": [],
      "metadata": {
        "id": "5jMWds3HFNy8"
      }
    },
    {
      "cell_type": "code",
      "source": [
        "#A pivot table was created from the results of the previous table generated\n",
        "#Remember outcomes first, you want to count the + and - in each respective group.\n",
        "final_table=final_data.pivot(\"Outcomes\",'Groups')\n",
        "final_table  #Output the pivot table"
      ],
      "metadata": {
        "colab": {
          "base_uri": "https://localhost:8080/",
          "height": 112
        },
        "id": "ZAn8WMU5B_vq",
        "outputId": "803cfdbb-5a9f-4f35-88c8-d1bee93d4774"
      },
      "execution_count": 105,
      "outputs": [
        {
          "output_type": "execute_result",
          "data": {
            "text/plain": [
              "Groups | +    | -\n",
              "A      | 375  | 375\n",
              "B      | 525  | 226"
            ],
            "text/html": [
              "<table border=\"1\" class=\"dataframe\">\n",
              "    <thead>\n",
              "        <tr>\n",
              "            <th>Groups</th> <th>+</th> <th>-</th>\n",
              "        </tr>\n",
              "    </thead>\n",
              "    <tbody>\n",
              "        <tr>\n",
              "            <td>A     </td> <td>375 </td> <td>375 </td>\n",
              "        </tr>\n",
              "        <tr>\n",
              "            <td>B     </td> <td>525 </td> <td>226 </td>\n",
              "        </tr>\n",
              "    </tbody>\n",
              "</table>"
            ]
          },
          "metadata": {},
          "execution_count": 105
        }
      ]
    }
  ]
}