{
  "nbformat": 4,
  "nbformat_minor": 0,
  "metadata": {
    "colab": {
      "provenance": []
    },
    "kernelspec": {
      "name": "python3",
      "display_name": "Python 3"
    },
    "language_info": {
      "name": "python"
    }
  },
  "cells": [
    {
      "cell_type": "markdown",
      "source": [
        "### DAT 341: Assignment 2 (2024)\n"
      ],
      "metadata": {
        "id": "LQePVcXOQgAm"
      }
    },
    {
      "cell_type": "markdown",
      "source": [
        "**Instructions**\n",
        "\n",
        "Add the following information to your notebook name before you submit:\n",
        "\n",
        "*  Your Student number\n",
        "\n",
        "*  Your Surname\n",
        "\n",
        "*  Your Initials\n",
        "\n",
        "Please complete all the questions below on this Google Notebook.\n",
        "\n",
        "Add code cells as needed.\n",
        "\n",
        "**Make use of comments within your coding cells to document your code at each step (#).**\n",
        "\n",
        "After completion, download the ipynb file and submit it using the assignment link on SunLearn.\n",
        "\n",
        "Submission deadline: 4 October 2024, before 23:59"
      ],
      "metadata": {
        "id": "Utl_FSDn_VQp"
      }
    },
    {
      "cell_type": "markdown",
      "source": [
        "# Assignment: Simulating Market Trends for Crop Prices\n",
        "\n",
        "**(34 marks in total)**\n",
        "\n",
        "**Problem Description:**\n",
        "\n",
        "You are analysing market trends for agricultural crop prices. Over time, the prices of different crops fluctuate due to various factors like supply, demand and external market conditions. Each crop's probability of price increasing, decreasing or staying constant is equal for every market day.\n",
        "\n",
        "Your task is to simulate the changes in crop prices over multiple days, run the simulation for different crops and determine which crop experiences the most significant price increase after a certain number of days.\n",
        "\n",
        "To do so complete the following steps:\n"
      ],
      "metadata": {
        "id": "84URjBWakwfJ"
      }
    },
    {
      "cell_type": "code",
      "source": [
        "# import libraries\n",
        "from datascience import *\n",
        "import numpy as np\n",
        "from google.colab import files\n",
        "\n",
        "# for visualisation\n",
        "%matplotlib inline\n",
        "import matplotlib.pyplot as plots\n",
        "plots.style.use('fivethirtyeight')"
      ],
      "metadata": {
        "id": "c0nyoiH_dItq"
      },
      "execution_count": 2,
      "outputs": []
    },
    {
      "cell_type": "markdown",
      "source": [
        "a) Create an array, called ***price_changes***, that represents possible daily changes in crop prices. The array should contain three values:\n",
        "* \"increase\" (price goes up),\n",
        "* \"decrease\" (price goes down),\n",
        "* \"constant\" (price remains the same).\n",
        "\n",
        "Each value in the array should have an equal chance of being selected on any given day.\n",
        "\n",
        "Next, write a function, called ***simulate_day***, that randomly selects one of these price change outcomes to represent the price movement of a crop on that day. The function should return the outcome as a string.\n",
        "\n",
        "**(4 marks)**"
      ],
      "metadata": {
        "id": "pjK94rQSpBZb"
      }
    },
    {
      "cell_type": "code",
      "source": [
        "# make an array\n",
        "price_changes = make_array('increase','decrease', 'constant')\n",
        "price_changes"
      ],
      "metadata": {
        "id": "UDua2Tyhl2-n",
        "colab": {
          "base_uri": "https://localhost:8080/"
        },
        "outputId": "06bd6732-0a08-4ade-b098-4559cd3c710a"
      },
      "execution_count": 3,
      "outputs": [
        {
          "output_type": "execute_result",
          "data": {
            "text/plain": [
              "array(['increase', 'decrease', 'constant'],\n",
              "      dtype='<U8')"
            ]
          },
          "metadata": {},
          "execution_count": 3
        }
      ]
    },
    {
      "cell_type": "code",
      "source": [
        "#Randomising it to ensure each element can be equally selected.\n",
        "np.random.choice(price_changes)"
      ],
      "metadata": {
        "colab": {
          "base_uri": "https://localhost:8080/",
          "height": 36
        },
        "id": "aBsfgNRIEv0i",
        "outputId": "d49bf997-f9c8-451a-86d6-97a8ea649313"
      },
      "execution_count": 4,
      "outputs": [
        {
          "output_type": "execute_result",
          "data": {
            "text/plain": [
              "'decrease'"
            ],
            "application/vnd.google.colaboratory.intrinsic+json": {
              "type": "string"
            }
          },
          "metadata": {},
          "execution_count": 4
        }
      ]
    },
    {
      "cell_type": "code",
      "source": [
        "#Defining the function\n",
        "def simulate_day():\n",
        "  result= np.random.choice(price_changes)\n",
        "  return result"
      ],
      "metadata": {
        "id": "9Z9a4GQvtjFh"
      },
      "execution_count": 5,
      "outputs": []
    },
    {
      "cell_type": "code",
      "source": [
        "#Printing out the outcome\n",
        "print(simulate_day())"
      ],
      "metadata": {
        "id": "qH8CdWjpmXd6",
        "colab": {
          "base_uri": "https://localhost:8080/"
        },
        "outputId": "8adba6a2-2845-4bec-bdd3-9da31b1598f1"
      },
      "execution_count": 6,
      "outputs": [
        {
          "output_type": "stream",
          "name": "stdout",
          "text": [
            "constant\n"
          ]
        }
      ]
    },
    {
      "cell_type": "markdown",
      "source": [
        "b) Write another function, called ***simulate_price_trend***, that simulates the price movement of a specific crop over multiple days.\n",
        "*        Inputs: the number of days, the crop name and an initial price (e.g., 100).\n",
        "*        For each day, use the ***simulate_day*** function to determine whether the price will increase, decrease or remain constant.\n",
        "*        If \"increase\" is randomly selected, the price should increase by X% of the previous day's price (depending on the crop).\n",
        "*        If \"decrease\" is randomly selected, the price should decrease by X% (depending on the crop).\n",
        "*        If \"constant\" is randomly selected, the price stays the same.\n",
        "*        Return an array of prices for each day of the simulation.\n",
        "\n",
        "Certain crops are more sensitive to market changes than others. For example, \"maize\" price increases/decreases by X=7% per day, \"wheat\" by X=5%, while \"soybean\" price changes by only X=3%.\n",
        "\n",
        "**(11 marks)**\n"
      ],
      "metadata": {
        "id": "fDd4lFchq2Uk"
      }
    },
    {
      "cell_type": "code",
      "source": [
        "#Making an array based on the price changes due to differences in crop sensitivity.\n",
        "changes_to_crop={\"maize\":0.07,\"wheat\":0.05,\"soybean\":0.03}\n",
        "changes_to_crop"
      ],
      "metadata": {
        "id": "ouaFe-jhlT8A",
        "colab": {
          "base_uri": "https://localhost:8080/"
        },
        "outputId": "b12a7acf-efd2-492a-c2eb-18696e434bf0"
      },
      "execution_count": 7,
      "outputs": [
        {
          "output_type": "execute_result",
          "data": {
            "text/plain": [
              "{'maize': 0.07, 'wheat': 0.05, 'soybean': 0.03}"
            ]
          },
          "metadata": {},
          "execution_count": 7
        }
      ]
    },
    {
      "cell_type": "code",
      "source": [
        "# Assigning a variable to the simulate day function\n",
        "change=simulate_day()\n",
        "change"
      ],
      "metadata": {
        "colab": {
          "base_uri": "https://localhost:8080/",
          "height": 36
        },
        "id": "lRqh_1rbaAGM",
        "outputId": "bc354fe6-3bff-4d24-d3c6-153160ceac92"
      },
      "execution_count": 8,
      "outputs": [
        {
          "output_type": "execute_result",
          "data": {
            "text/plain": [
              "'increase'"
            ],
            "application/vnd.google.colaboratory.intrinsic+json": {
              "type": "string"
            }
          },
          "metadata": {},
          "execution_count": 8
        }
      ]
    },
    {
      "cell_type": "code",
      "source": [
        "#Defining a function that takes the parameters of days, crop name and initial price\n",
        "def simulate_price_trend(days,crop_name,initial_price):\n",
        "\n",
        "  prices=[initial_price]            #An array for price over time\n",
        "\n",
        "  for day in range(days):\n",
        "    change=simulate_day()\n",
        "\n",
        "    if change == 'increase':          #if whatever we have is increasing in price.\n",
        "      new_price = prices[-1] * (1 + changes_to_crop[crop_name])\n",
        "\n",
        "    elif change == 'decrease':        #if whatever we have is decreasing in price.\n",
        "      new_price = prices[-1] * (1 - changes_to_crop[crop_name])\n",
        "\n",
        "    else:\n",
        "      new_price = prices[-1]   #if whatever we have is constant.\n",
        "\n",
        "    prices.append(new_price)\n",
        "\n",
        "\n",
        "  return prices\n",
        "\n",
        "simulate_price_trend(30,\"soybean\",200)   #An example to show the cod works"
      ],
      "metadata": {
        "id": "LC5L3PwQH867",
        "colab": {
          "base_uri": "https://localhost:8080/"
        },
        "outputId": "dd1bb708-33f7-45cc-f5e3-b69ae0ca8484"
      },
      "execution_count": 56,
      "outputs": [
        {
          "output_type": "execute_result",
          "data": {
            "text/plain": [
              "[200,\n",
              " 194.0,\n",
              " 188.18,\n",
              " 182.5346,\n",
              " 177.058562,\n",
              " 182.37031886,\n",
              " 182.37031886,\n",
              " 176.8992092942,\n",
              " 171.592233015374,\n",
              " 176.74000000583524,\n",
              " 182.0422000060103,\n",
              " 176.58093400583,\n",
              " 171.2835059856551,\n",
              " 166.14500080608545,\n",
              " 166.14500080608545,\n",
              " 171.129350830268,\n",
              " 165.99547030535996,\n",
              " 165.99547030535996,\n",
              " 170.97533441452077,\n",
              " 165.84607438208513,\n",
              " 170.8214566135477,\n",
              " 170.8214566135477,\n",
              " 170.8214566135477,\n",
              " 170.8214566135477,\n",
              " 170.8214566135477,\n",
              " 175.94610031195413,\n",
              " 175.94610031195413,\n",
              " 181.22448332131276,\n",
              " 181.22448332131276,\n",
              " 181.22448332131276,\n",
              " 175.78774882167338]"
            ]
          },
          "metadata": {},
          "execution_count": 56
        }
      ]
    },
    {
      "cell_type": "markdown",
      "source": [
        "c) To simulate the price movement for each crop over a specified number of days, starting with an initial specified price, create a function, called ***simulate_crops***, that:\n",
        "\n",
        "* Inputs: an array/list of crops as well as the number of days to simulate and the initial price.\n",
        "* Use your function ***simulete_price_trend*** to calculate the result array for the crop type.\n",
        "* Stores the new price after each price change in a crop-specific array.\n",
        "* Returns a table with all the day numbers (0-30) in the first column, followed by a column per crop with the value of the start price (Day 0) up-to the day-30 end-of day prices (Days 1-30).\n",
        "\n",
        "**(5 marks)**"
      ],
      "metadata": {
        "id": "S14A-Az5rEfB"
      }
    },
    {
      "cell_type": "code",
      "source": [
        "#This block of code is for assuming that the prices of all crops start at the same point\n",
        "\n",
        "#This block of code was to allow me on how to approach this function. The next block was used for the rest of the assignment\n",
        "\n",
        "#With the use of a for loop and np.arange, create a function that will return the specified table.\n",
        "def simulate_crops(list_of_crops, inital_price,days):\n",
        "  new_days=np.arange(days+1)\n",
        "  daily=(\"Day\",days)\n",
        "  lstPrices = []   #Empty array\n",
        "\n",
        "  for crop in list_of_crops:\n",
        "    prices=simulate_price_trend(days,crop,inital_price)\n",
        "    lstPrices.append(prices)\n",
        "    #data=np.append(daily,prices)\n",
        "    #return prices.Table().with_columns(data)\n",
        "\n",
        "  header = [\"Days\"] + list_of_crops   #created a headerfor the top of the table\n",
        "\n",
        "  tb = Table(header)\n",
        "\n",
        "  for day in range(days + 1):  #Made a for loop in order to add the days\n",
        "\n",
        "    entry = [day ]\n",
        "\n",
        "    for i in range( len(lstPrices) ) :\n",
        "\n",
        "      entry.append(lstPrices[i][day])\n",
        "\n",
        "    tb=tb.with_rows([entry])    #for loop to add prices\n",
        "\n",
        "  return tb\n",
        "\n",
        "\n",
        "simulate_crops([\"soybean\",\"maize\",\"wheat\"],200,30)   #An example to test if the code works."
      ],
      "metadata": {
        "id": "TyTmeUAqrL8z",
        "colab": {
          "base_uri": "https://localhost:8080/",
          "height": 392
        },
        "outputId": "28834dbf-799a-44f6-9b66-1d8df747ebe9"
      },
      "execution_count": 120,
      "outputs": [
        {
          "output_type": "execute_result",
          "data": {
            "text/plain": [
              "Days | soybean | maize   | wheat\n",
              "0    | 200     | 200     | 200\n",
              "1    | 194     | 200     | 200\n",
              "2    | 194     | 186     | 200\n",
              "3    | 194     | 172.98  | 200\n",
              "4    | 188.18  | 172.98  | 190\n",
              "5    | 188.18  | 185.089 | 180.5\n",
              "6    | 182.535 | 172.132 | 189.525\n",
              "7    | 177.059 | 184.182 | 189.525\n",
              "8    | 182.37  | 171.289 | 199.001\n",
              "9    | 176.899 | 159.299 | 199.001\n",
              "... (21 rows omitted)"
            ],
            "text/html": [
              "<table border=\"1\" class=\"dataframe\">\n",
              "    <thead>\n",
              "        <tr>\n",
              "            <th>Days</th> <th>soybean</th> <th>maize</th> <th>wheat</th>\n",
              "        </tr>\n",
              "    </thead>\n",
              "    <tbody>\n",
              "        <tr>\n",
              "            <td>0   </td> <td>200    </td> <td>200    </td> <td>200    </td>\n",
              "        </tr>\n",
              "        <tr>\n",
              "            <td>1   </td> <td>194    </td> <td>200    </td> <td>200    </td>\n",
              "        </tr>\n",
              "        <tr>\n",
              "            <td>2   </td> <td>194    </td> <td>186    </td> <td>200    </td>\n",
              "        </tr>\n",
              "        <tr>\n",
              "            <td>3   </td> <td>194    </td> <td>172.98 </td> <td>200    </td>\n",
              "        </tr>\n",
              "        <tr>\n",
              "            <td>4   </td> <td>188.18 </td> <td>172.98 </td> <td>190    </td>\n",
              "        </tr>\n",
              "        <tr>\n",
              "            <td>5   </td> <td>188.18 </td> <td>185.089</td> <td>180.5  </td>\n",
              "        </tr>\n",
              "        <tr>\n",
              "            <td>6   </td> <td>182.535</td> <td>172.132</td> <td>189.525</td>\n",
              "        </tr>\n",
              "        <tr>\n",
              "            <td>7   </td> <td>177.059</td> <td>184.182</td> <td>189.525</td>\n",
              "        </tr>\n",
              "        <tr>\n",
              "            <td>8   </td> <td>182.37 </td> <td>171.289</td> <td>199.001</td>\n",
              "        </tr>\n",
              "        <tr>\n",
              "            <td>9   </td> <td>176.899</td> <td>159.299</td> <td>199.001</td>\n",
              "        </tr>\n",
              "    </tbody>\n",
              "</table>\n",
              "<p>... (21 rows omitted)</p>"
            ]
          },
          "metadata": {},
          "execution_count": 120
        }
      ]
    },
    {
      "cell_type": "code",
      "source": [
        "#Note this block of code is if the prices were different. Note that this becomes second , it overwrites the block that came first\n",
        "\n",
        "#With the use of a for loop and np.arange, create a function that will return the specified table.\n",
        "def simulate_crops(list_of_crops, inital_price,days):\n",
        "  new_days=np.arange(days+1)\n",
        "  daily=(\"Day\",days)\n",
        "  lstPrices = []   #Empty array\n",
        "\n",
        "  for i in range(len(list_of_crops)):\n",
        "    prices=simulate_price_trend(days,list_of_crops[i],inital_price[i])\n",
        "    lstPrices.append(prices)\n",
        "    #data=np.append(daily,prices)\n",
        "    #return prices.Table().with_columns(data)\n",
        "\n",
        "  header = [\"Days\"] + list_of_crops   #created a headerfor the top of the table\n",
        "\n",
        "  tb = Table(header)\n",
        "\n",
        "  for day in range(days + 1):  #Made a for loop in order to add the days\n",
        "\n",
        "    entry = [day ]\n",
        "\n",
        "    for i in range( len(lstPrices) ) :\n",
        "\n",
        "      entry.append(lstPrices[i][day])\n",
        "\n",
        "    tb=tb.with_rows([entry])    #for loop to add prices\n",
        "\n",
        "  return tb\n",
        "\n",
        "\n",
        "simulate_crops([\"soybean\",\"maize\",\"wheat\"],[200,300,400],30)   #An example to test if the code works."
      ],
      "metadata": {
        "colab": {
          "base_uri": "https://localhost:8080/",
          "height": 392
        },
        "id": "ghu7BOg7G5hO",
        "outputId": "fe5f01f0-4978-406b-f9f4-e543aae07be8"
      },
      "execution_count": 122,
      "outputs": [
        {
          "output_type": "execute_result",
          "data": {
            "text/plain": [
              "Days | soybean | maize   | wheat\n",
              "0    | 200     | 300     | 400\n",
              "1    | 200     | 279     | 400\n",
              "2    | 200     | 298.53  | 400\n",
              "3    | 206     | 319.427 | 420\n",
              "4    | 206     | 297.067 | 441\n",
              "5    | 206     | 276.272 | 463.05\n",
              "6    | 212.18  | 256.933 | 463.05\n",
              "7    | 212.18  | 274.919 | 486.203\n",
              "8    | 212.18  | 294.163 | 486.203\n",
              "9    | 205.815 | 273.572 | 510.513\n",
              "... (21 rows omitted)"
            ],
            "text/html": [
              "<table border=\"1\" class=\"dataframe\">\n",
              "    <thead>\n",
              "        <tr>\n",
              "            <th>Days</th> <th>soybean</th> <th>maize</th> <th>wheat</th>\n",
              "        </tr>\n",
              "    </thead>\n",
              "    <tbody>\n",
              "        <tr>\n",
              "            <td>0   </td> <td>200    </td> <td>300    </td> <td>400    </td>\n",
              "        </tr>\n",
              "        <tr>\n",
              "            <td>1   </td> <td>200    </td> <td>279    </td> <td>400    </td>\n",
              "        </tr>\n",
              "        <tr>\n",
              "            <td>2   </td> <td>200    </td> <td>298.53 </td> <td>400    </td>\n",
              "        </tr>\n",
              "        <tr>\n",
              "            <td>3   </td> <td>206    </td> <td>319.427</td> <td>420    </td>\n",
              "        </tr>\n",
              "        <tr>\n",
              "            <td>4   </td> <td>206    </td> <td>297.067</td> <td>441    </td>\n",
              "        </tr>\n",
              "        <tr>\n",
              "            <td>5   </td> <td>206    </td> <td>276.272</td> <td>463.05 </td>\n",
              "        </tr>\n",
              "        <tr>\n",
              "            <td>6   </td> <td>212.18 </td> <td>256.933</td> <td>463.05 </td>\n",
              "        </tr>\n",
              "        <tr>\n",
              "            <td>7   </td> <td>212.18 </td> <td>274.919</td> <td>486.203</td>\n",
              "        </tr>\n",
              "        <tr>\n",
              "            <td>8   </td> <td>212.18 </td> <td>294.163</td> <td>486.203</td>\n",
              "        </tr>\n",
              "        <tr>\n",
              "            <td>9   </td> <td>205.815</td> <td>273.572</td> <td>510.513</td>\n",
              "        </tr>\n",
              "    </tbody>\n",
              "</table>\n",
              "<p>... (21 rows omitted)</p>"
            ]
          },
          "metadata": {},
          "execution_count": 122
        }
      ]
    },
    {
      "cell_type": "markdown",
      "source": [
        "d) You are tracking three different crops maize, wheat and soybean. Use the function, ***simulate_crops***, to simulate the 30-day price trends, show the table with these results, then calculate the overall price change (i.e., the percentage change from the starting price to the final price).\n",
        "\n",
        "Lastly, provide a summary of the final results in a table showing the initial price (Day 0), final price (Day 30), and percentage change for each crop.\n",
        "\n",
        "**(11 marks)**"
      ],
      "metadata": {
        "id": "yFaz3OSNtLCX"
      }
    },
    {
      "cell_type": "code",
      "source": [
        "myTable = simulate_crops([\"soybean\",\"maize\",\"wheat\"],[200,300,400],30)\n",
        "variable1=myTable.row(-1)    #Creating a variable to store the final price\n",
        "variable2 = myTable.row(0)    #creating a variable to store the initial price\n",
        "variable1   #The final price indicated below"
      ],
      "metadata": {
        "id": "Z_R4dRjIqxWl",
        "colab": {
          "base_uri": "https://localhost:8080/"
        },
        "outputId": "35593368-e3b2-4e32-e853-143b0224022b"
      },
      "execution_count": 123,
      "outputs": [
        {
          "output_type": "execute_result",
          "data": {
            "text/plain": [
              "Row(Days=30, soybean=204.15349070747226, maize=200.66415813894452, wheat=393.05228179605524)"
            ]
          },
          "metadata": {},
          "execution_count": 123
        }
      ]
    },
    {
      "cell_type": "code",
      "source": [
        "variable2 #Initial price indicated below"
      ],
      "metadata": {
        "colab": {
          "base_uri": "https://localhost:8080/"
        },
        "id": "ZmZNGmrlBc4t",
        "outputId": "61ba2b0e-1965-46f1-eeb9-3c58bb2dbf13"
      },
      "execution_count": 91,
      "outputs": [
        {
          "output_type": "execute_result",
          "data": {
            "text/plain": [
              "Row(Days=0, soybean=200.0, maize=300.0, wheat=400.0)"
            ]
          },
          "metadata": {},
          "execution_count": 91
        }
      ]
    },
    {
      "cell_type": "code",
      "source": [
        "myTable.row(-1)  #This was for testing how to make use of the .row function for our dataset"
      ],
      "metadata": {
        "colab": {
          "base_uri": "https://localhost:8080/"
        },
        "id": "FThwocj0B9He",
        "outputId": "8c1aebbe-878d-404a-ba14-8d2600c2c907"
      },
      "execution_count": 92,
      "outputs": [
        {
          "output_type": "execute_result",
          "data": {
            "text/plain": [
              "Row(Days=30, soybean=181.38773228036507, maize=230.87166581577483, wheat=410.64395081202815)"
            ]
          },
          "metadata": {},
          "execution_count": 92
        }
      ]
    },
    {
      "cell_type": "code",
      "source": [
        "differences = []     #empty array\n",
        "for i in range( 1 , len(variable1) ) :\n",
        "\n",
        "  differences.append( ((variable1[i] - variable2[i] )/variable2[i])*100  )\n",
        "# A for loop was used in order to allow for the calculation of the differences of variables.\n",
        "differences"
      ],
      "metadata": {
        "colab": {
          "base_uri": "https://localhost:8080/"
        },
        "id": "BMnwbSX1Fs2X",
        "outputId": "88cbdfaa-5c2e-44f7-b0b2-4e06f1a56b6d"
      },
      "execution_count": 102,
      "outputs": [
        {
          "output_type": "execute_result",
          "data": {
            "text/plain": [
              "[11.743062721169323, -36.870649301687827, -11.981035668134368]"
            ]
          },
          "metadata": {},
          "execution_count": 102
        }
      ]
    },
    {
      "cell_type": "code",
      "source": [
        "variable1[1]  #This was for getting the final price for our first entry"
      ],
      "metadata": {
        "colab": {
          "base_uri": "https://localhost:8080/"
        },
        "id": "0ZrciapHFRl2",
        "outputId": "4304899f-a056-46c5-e2b7-d98302a0df70"
      },
      "execution_count": 124,
      "outputs": [
        {
          "output_type": "execute_result",
          "data": {
            "text/plain": [
              "204.15349070747226"
            ]
          },
          "metadata": {},
          "execution_count": 124
        }
      ]
    },
    {
      "cell_type": "code",
      "source": [
        "#Assigning variable1 into a variable that I can read\n",
        "dollar=variable1\n",
        "dollar\n"
      ],
      "metadata": {
        "colab": {
          "base_uri": "https://localhost:8080/"
        },
        "id": "wFI24CFsExvF",
        "outputId": "cc3db614-967d-41cd-b3ae-e0c2434812c5"
      },
      "execution_count": 114,
      "outputs": [
        {
          "output_type": "execute_result",
          "data": {
            "text/plain": [
              "Row(Days=30, soybean=223.48612544233865, maize=189.38805209493651, wheat=352.07585732746253)"
            ]
          },
          "metadata": {},
          "execution_count": 114
        }
      ]
    },
    {
      "cell_type": "code",
      "source": [
        "#Creating the headers of the final table\n",
        "Final_table=Table([\"Crop\",\"Initial_price\",\"Final_price\",\"Percentage_change\"])\n",
        "Final_table"
      ],
      "metadata": {
        "colab": {
          "base_uri": "https://localhost:8080/",
          "height": 50
        },
        "id": "N477K9_N_dEE",
        "outputId": "5649f68a-10bb-4870-f25f-31286b281d9d"
      },
      "execution_count": 126,
      "outputs": [
        {
          "output_type": "execute_result",
          "data": {
            "text/plain": [
              "Crop | Initial_price | Final_price | Percentage_change"
            ],
            "text/html": [
              "<table border=\"1\" class=\"dataframe\">\n",
              "    <thead>\n",
              "        <tr>\n",
              "            <th>Crop</th> <th>Initial_price</th> <th>Final_price</th> <th>Percentage_change</th>\n",
              "        </tr>\n",
              "    </thead>\n",
              "    <tbody>\n",
              "    </tbody>\n",
              "</table>"
            ]
          },
          "metadata": {},
          "execution_count": 126
        }
      ]
    },
    {
      "cell_type": "code",
      "source": [
        "#Putting the inital price into a variable I can run\n",
        "kol=simulate_crops([\"soybean\",\"maize\",\"wheat\"],[200,300,400],30).row(0)\n",
        "kol"
      ],
      "metadata": {
        "colab": {
          "base_uri": "https://localhost:8080/"
        },
        "id": "Gp1inovvC455",
        "outputId": "688a4a28-68d6-439a-8112-d94ec4a04921"
      },
      "execution_count": 109,
      "outputs": [
        {
          "output_type": "execute_result",
          "data": {
            "text/plain": [
              "Row(Days=0, soybean=200.0, maize=300.0, wheat=400.0)"
            ]
          },
          "metadata": {},
          "execution_count": 109
        }
      ]
    },
    {
      "cell_type": "code",
      "source": [
        "#Testing if it works\n",
        "kol[3]"
      ],
      "metadata": {
        "colab": {
          "base_uri": "https://localhost:8080/"
        },
        "id": "II5tjNdmDB0K",
        "outputId": "12134571-2d24-4a7b-9993-3e8c161f3e19"
      },
      "execution_count": 112,
      "outputs": [
        {
          "output_type": "execute_result",
          "data": {
            "text/plain": [
              "400.0"
            ]
          },
          "metadata": {},
          "execution_count": 112
        }
      ]
    },
    {
      "cell_type": "code",
      "source": [
        "Final_table=Final_table.with_rows([[\"soybean\",kol[1],dollar[1],differences[0]],[\"maize\",kol[2],dollar[2],differences[1]],[\"wheat\",kol[3],dollar[3],differences[2]]])\n",
        "Final_table"
      ],
      "metadata": {
        "colab": {
          "base_uri": "https://localhost:8080/",
          "height": 144
        },
        "id": "P6JSFb5I_nEN",
        "outputId": "e7fee4a1-cbc6-4fdd-946f-d1e5e2e5e648"
      },
      "execution_count": 127,
      "outputs": [
        {
          "output_type": "execute_result",
          "data": {
            "text/plain": [
              "Crop    | Initial_price | Final_price | Percentage_change\n",
              "soybean | 200           | 223.486     | 11.7431\n",
              "maize   | 300           | 189.388     | -36.8706\n",
              "wheat   | 400           | 352.076     | -11.981"
            ],
            "text/html": [
              "<table border=\"1\" class=\"dataframe\">\n",
              "    <thead>\n",
              "        <tr>\n",
              "            <th>Crop</th> <th>Initial_price</th> <th>Final_price</th> <th>Percentage_change</th>\n",
              "        </tr>\n",
              "    </thead>\n",
              "    <tbody>\n",
              "        <tr>\n",
              "            <td>soybean</td> <td>200          </td> <td>223.486    </td> <td>11.7431          </td>\n",
              "        </tr>\n",
              "        <tr>\n",
              "            <td>maize  </td> <td>300          </td> <td>189.388    </td> <td>-36.8706         </td>\n",
              "        </tr>\n",
              "        <tr>\n",
              "            <td>wheat  </td> <td>400          </td> <td>352.076    </td> <td>-11.981          </td>\n",
              "        </tr>\n",
              "    </tbody>\n",
              "</table>"
            ]
          },
          "metadata": {},
          "execution_count": 127
        }
      ]
    },
    {
      "cell_type": "markdown",
      "source": [
        "e) Discuss your final results and how you could improve on your analysis **(2 marks)**."
      ],
      "metadata": {
        "id": "74fRR4Gv9civ"
      }
    },
    {
      "cell_type": "markdown",
      "source": [
        "*Provide your answer in this text cell*"
      ],
      "metadata": {
        "id": "hN49VhLL9qxM"
      }
    },
    {
      "cell_type": "code",
      "source": [
        "#Answer to the discussion is below"
      ],
      "metadata": {
        "id": "EyctMMDM9rOc"
      },
      "execution_count": null,
      "outputs": []
    },
    {
      "cell_type": "markdown",
      "source": [
        "This analysis gives an idea of how prices evolve over time for crops such as maize, wheat and soybeans. Price sensitivity varies in these crops and the percentage change provides an understanding of daily changes affecting the price of the crop. It is recommended to include additional factors to improve this analysis such as weather condition and variation within global markets. Also it would be beneficial to also look at historical data to provide an insight on the patterns of past price movements."
      ],
      "metadata": {
        "id": "2494em0TgUOX"
      }
    }
  ]
}